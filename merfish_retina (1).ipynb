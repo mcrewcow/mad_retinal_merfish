{
 "cells": [
  {
   "cell_type": "code",
   "execution_count": 93,
   "metadata": {},
   "outputs": [
    {
     "name": "stdout",
     "output_type": "stream",
     "text": [
      "Requirement already satisfied: squidpy in ./anaconda3/lib/python3.7/site-packages (1.0.0)\n",
      "Requirement already satisfied: anndata>=0.7.4 in ./anaconda3/lib/python3.7/site-packages (from squidpy) (0.8.0)\n",
      "Requirement already satisfied: dask>=2.30 in ./anaconda3/lib/python3.7/site-packages (from squidpy) (2022.2.0)\n",
      "Requirement already satisfied: docrep>=0.3.1 in ./anaconda3/lib/python3.7/site-packages (from squidpy) (0.3.2)\n",
      "Requirement already satisfied: ipywidgets>=7.5.1 in ./anaconda3/lib/python3.7/site-packages (from squidpy) (7.7.0)\n",
      "Requirement already satisfied: omnipath>=1.0.4 in ./anaconda3/lib/python3.7/site-packages (from squidpy) (1.0.4)\n",
      "Requirement already satisfied: pandas>=1.1.4 in ./anaconda3/lib/python3.7/site-packages (from squidpy) (1.1.5)\n",
      "Requirement already satisfied: rasterio>=1.1.8 in ./anaconda3/lib/python3.7/site-packages (from squidpy) (1.2.10)\n",
      "Requirement already satisfied: scanpy[leiden]>=1.7.0 in ./anaconda3/lib/python3.7/site-packages (from squidpy) (1.9.3)\n",
      "Requirement already satisfied: scikit-image>=0.17.1 in ./anaconda3/lib/python3.7/site-packages (from squidpy) (0.19.3)\n",
      "Requirement already satisfied: statsmodels>=0.12.0 in ./anaconda3/lib/python3.7/site-packages (from squidpy) (0.13.2)\n",
      "Requirement already satisfied: tifffile>=2020.10.1 in ./anaconda3/lib/python3.7/site-packages (from squidpy) (2021.11.2)\n",
      "Requirement already satisfied: tqdm>=4.50.2 in ./anaconda3/lib/python3.7/site-packages (from squidpy) (4.63.0)\n",
      "Requirement already satisfied: typing-extensions in ./anaconda3/lib/python3.7/site-packages (from squidpy) (4.2.0)\n",
      "Requirement already satisfied: xarray>=0.16.1 in ./anaconda3/lib/python3.7/site-packages (from squidpy) (0.20.2)\n",
      "Requirement already satisfied: zarr>=2.6.1 in ./anaconda3/lib/python3.7/site-packages (from squidpy) (2.12.0)\n",
      "Requirement already satisfied: numpy>=1.16.5 in ./anaconda3/lib/python3.7/site-packages (from anndata>=0.7.4->squidpy) (1.21.6)\n",
      "Requirement already satisfied: scipy>1.4 in ./anaconda3/lib/python3.7/site-packages (from anndata>=0.7.4->squidpy) (1.7.3)\n",
      "Requirement already satisfied: h5py>=3 in ./anaconda3/lib/python3.7/site-packages (from anndata>=0.7.4->squidpy) (3.6.0)\n",
      "Requirement already satisfied: natsort in ./anaconda3/lib/python3.7/site-packages (from anndata>=0.7.4->squidpy) (8.1.0)\n",
      "Requirement already satisfied: packaging>=20 in ./anaconda3/lib/python3.7/site-packages (from anndata>=0.7.4->squidpy) (21.3)\n",
      "Requirement already satisfied: importlib_metadata>=0.7 in ./anaconda3/lib/python3.7/site-packages (from anndata>=0.7.4->squidpy) (4.11.3)\n",
      "Requirement already satisfied: cloudpickle>=1.1.1 in ./anaconda3/lib/python3.7/site-packages (from dask>=2.30->squidpy) (2.2.1)\n",
      "Requirement already satisfied: fsspec>=0.6.0 in ./anaconda3/lib/python3.7/site-packages (from dask>=2.30->squidpy) (2023.1.0)\n",
      "Requirement already satisfied: partd>=0.3.10 in ./anaconda3/lib/python3.7/site-packages (from dask>=2.30->squidpy) (1.3.0)\n",
      "Requirement already satisfied: pyyaml>=5.3.1 in ./anaconda3/lib/python3.7/site-packages (from dask>=2.30->squidpy) (6.0)\n",
      "Requirement already satisfied: toolz>=0.8.2 in ./anaconda3/lib/python3.7/site-packages (from dask>=2.30->squidpy) (0.12.0)\n",
      "Requirement already satisfied: six in ./anaconda3/lib/python3.7/site-packages (from docrep>=0.3.1->squidpy) (1.16.0)\n",
      "Requirement already satisfied: ipykernel>=4.5.1 in ./anaconda3/lib/python3.7/site-packages (from ipywidgets>=7.5.1->squidpy) (6.13.0)\n",
      "Requirement already satisfied: ipython-genutils~=0.2.0 in ./anaconda3/lib/python3.7/site-packages (from ipywidgets>=7.5.1->squidpy) (0.2.0)\n",
      "Requirement already satisfied: traitlets>=4.3.1 in ./anaconda3/lib/python3.7/site-packages (from ipywidgets>=7.5.1->squidpy) (5.1.1)\n",
      "Requirement already satisfied: nbformat>=4.2.0 in ./anaconda3/lib/python3.7/site-packages (from ipywidgets>=7.5.1->squidpy) (5.3.0)\n",
      "Requirement already satisfied: widgetsnbextension~=3.6.0 in ./anaconda3/lib/python3.7/site-packages (from ipywidgets>=7.5.1->squidpy) (3.6.0)\n",
      "Requirement already satisfied: ipython>=4.0.0 in ./anaconda3/lib/python3.7/site-packages (from ipywidgets>=7.5.1->squidpy) (7.32.0)\n",
      "Requirement already satisfied: jupyterlab-widgets>=1.0.0 in ./anaconda3/lib/python3.7/site-packages (from ipywidgets>=7.5.1->squidpy) (1.1.0)\n",
      "Requirement already satisfied: attrs>=20.2.0 in ./anaconda3/lib/python3.7/site-packages (from omnipath>=1.0.4->squidpy) (21.4.0)\n",
      "Requirement already satisfied: enum-tools>=0.6.1 in ./anaconda3/lib/python3.7/site-packages (from omnipath>=1.0.4->squidpy) (0.11.0)\n",
      "Requirement already satisfied: inflect>=4.1.0 in ./anaconda3/lib/python3.7/site-packages (from omnipath>=1.0.4->squidpy) (6.0.5)\n",
      "Requirement already satisfied: requests>=2.24.0 in ./anaconda3/lib/python3.7/site-packages (from omnipath>=1.0.4->squidpy) (2.27.1)\n",
      "Requirement already satisfied: urllib3>=1.26.0 in ./anaconda3/lib/python3.7/site-packages (from omnipath>=1.0.4->squidpy) (1.26.8)\n",
      "Requirement already satisfied: wrapt>=1.12.0 in ./anaconda3/lib/python3.7/site-packages (from omnipath>=1.0.4->squidpy) (1.14.1)\n",
      "Requirement already satisfied: python-dateutil>=2.7.3 in ./anaconda3/lib/python3.7/site-packages (from pandas>=1.1.4->squidpy) (2.8.2)\n",
      "Requirement already satisfied: pytz>=2017.2 in ./anaconda3/lib/python3.7/site-packages (from pandas>=1.1.4->squidpy) (2022.1)\n",
      "Requirement already satisfied: affine in ./anaconda3/lib/python3.7/site-packages (from rasterio>=1.1.8->squidpy) (2.4.0)\n",
      "Requirement already satisfied: certifi in ./anaconda3/lib/python3.7/site-packages (from rasterio>=1.1.8->squidpy) (2021.10.8)\n",
      "Requirement already satisfied: click>=4.0 in ./anaconda3/lib/python3.7/site-packages (from rasterio>=1.1.8->squidpy) (8.1.2)\n",
      "Requirement already satisfied: cligj>=0.5 in ./anaconda3/lib/python3.7/site-packages (from rasterio>=1.1.8->squidpy) (0.7.2)\n",
      "Requirement already satisfied: snuggs>=1.4.1 in ./anaconda3/lib/python3.7/site-packages (from rasterio>=1.1.8->squidpy) (1.4.7)\n",
      "Requirement already satisfied: click-plugins in ./anaconda3/lib/python3.7/site-packages (from rasterio>=1.1.8->squidpy) (1.1.1)\n",
      "Requirement already satisfied: setuptools in ./anaconda3/lib/python3.7/site-packages (from rasterio>=1.1.8->squidpy) (61.2.0)\n",
      "Requirement already satisfied: matplotlib>=3.4 in ./anaconda3/lib/python3.7/site-packages (from scanpy[leiden]>=1.7.0->squidpy) (3.5.1)\n",
      "Requirement already satisfied: seaborn in ./anaconda3/lib/python3.7/site-packages (from scanpy[leiden]>=1.7.0->squidpy) (0.11.2)\n",
      "Requirement already satisfied: scikit-learn>=0.22 in ./anaconda3/lib/python3.7/site-packages (from scanpy[leiden]>=1.7.0->squidpy) (1.0.2)\n",
      "Requirement already satisfied: patsy in ./anaconda3/lib/python3.7/site-packages (from scanpy[leiden]>=1.7.0->squidpy) (0.5.2)\n",
      "Requirement already satisfied: networkx>=2.3 in ./anaconda3/lib/python3.7/site-packages (from scanpy[leiden]>=1.7.0->squidpy) (2.6.3)\n",
      "Requirement already satisfied: joblib in ./anaconda3/lib/python3.7/site-packages (from scanpy[leiden]>=1.7.0->squidpy) (1.1.0)\n",
      "Requirement already satisfied: numba>=0.41.0 in ./anaconda3/lib/python3.7/site-packages (from scanpy[leiden]>=1.7.0->squidpy) (0.55.1)\n",
      "Requirement already satisfied: umap-learn>=0.3.10 in ./anaconda3/lib/python3.7/site-packages (from scanpy[leiden]>=1.7.0->squidpy) (0.5.3)\n",
      "Requirement already satisfied: session-info in ./anaconda3/lib/python3.7/site-packages (from scanpy[leiden]>=1.7.0->squidpy) (1.0.0)\n",
      "Requirement already satisfied: python-igraph in ./anaconda3/lib/python3.7/site-packages (from scanpy[leiden]>=1.7.0->squidpy) (0.9.11)\n",
      "Requirement already satisfied: leidenalg in ./anaconda3/lib/python3.7/site-packages (from scanpy[leiden]>=1.7.0->squidpy) (0.8.10)\n",
      "Requirement already satisfied: pillow!=7.1.0,!=7.1.1,!=8.3.0,>=6.1.0 in ./anaconda3/lib/python3.7/site-packages (from scikit-image>=0.17.1->squidpy) (9.1.0)\n",
      "Requirement already satisfied: imageio>=2.4.1 in ./anaconda3/lib/python3.7/site-packages (from scikit-image>=0.17.1->squidpy) (2.22.0)\n",
      "Requirement already satisfied: PyWavelets>=1.1.1 in ./anaconda3/lib/python3.7/site-packages (from scikit-image>=0.17.1->squidpy) (1.3.0)\n",
      "Requirement already satisfied: asciitree in ./anaconda3/lib/python3.7/site-packages (from zarr>=2.6.1->squidpy) (0.3.3)\n",
      "Requirement already satisfied: fasteners in ./anaconda3/lib/python3.7/site-packages (from zarr>=2.6.1->squidpy) (0.19)\n",
      "Requirement already satisfied: numcodecs>=0.6.4 in ./anaconda3/lib/python3.7/site-packages (from zarr>=2.6.1->squidpy) (0.10.2)\n",
      "Requirement already satisfied: pygments>=2.6.1 in ./anaconda3/lib/python3.7/site-packages (from enum-tools>=0.6.1->omnipath>=1.0.4->squidpy) (2.16.1)\n",
      "Requirement already satisfied: cached-property in ./anaconda3/lib/python3.7/site-packages (from h5py>=3->anndata>=0.7.4->squidpy) (1.5.2)\n",
      "Requirement already satisfied: zipp>=0.5 in ./anaconda3/lib/python3.7/site-packages (from importlib_metadata>=0.7->anndata>=0.7.4->squidpy) (3.8.0)\n",
      "Requirement already satisfied: pydantic<2,>=1.9.1 in ./anaconda3/lib/python3.7/site-packages (from inflect>=4.1.0->omnipath>=1.0.4->squidpy) (1.10.13)\n",
      "Requirement already satisfied: debugpy>=1.0 in ./anaconda3/lib/python3.7/site-packages (from ipykernel>=4.5.1->ipywidgets>=7.5.1->squidpy) (1.6.0)\n",
      "Requirement already satisfied: jupyter-client>=6.1.12 in ./anaconda3/lib/python3.7/site-packages (from ipykernel>=4.5.1->ipywidgets>=7.5.1->squidpy) (7.2.2)\n",
      "Requirement already satisfied: tornado>=6.1 in ./anaconda3/lib/python3.7/site-packages (from ipykernel>=4.5.1->ipywidgets>=7.5.1->squidpy) (6.1)\n",
      "Requirement already satisfied: matplotlib-inline>=0.1 in ./anaconda3/lib/python3.7/site-packages (from ipykernel>=4.5.1->ipywidgets>=7.5.1->squidpy) (0.1.3)\n",
      "Requirement already satisfied: psutil in ./anaconda3/lib/python3.7/site-packages (from ipykernel>=4.5.1->ipywidgets>=7.5.1->squidpy) (5.9.0)\n",
      "Requirement already satisfied: nest-asyncio in ./anaconda3/lib/python3.7/site-packages (from ipykernel>=4.5.1->ipywidgets>=7.5.1->squidpy) (1.5.5)\n",
      "Requirement already satisfied: jedi>=0.16 in ./anaconda3/lib/python3.7/site-packages (from ipython>=4.0.0->ipywidgets>=7.5.1->squidpy) (0.18.1)\n",
      "Requirement already satisfied: decorator in ./anaconda3/lib/python3.7/site-packages (from ipython>=4.0.0->ipywidgets>=7.5.1->squidpy) (5.1.1)\n",
      "Requirement already satisfied: pickleshare in ./anaconda3/lib/python3.7/site-packages (from ipython>=4.0.0->ipywidgets>=7.5.1->squidpy) (0.7.5)\n",
      "Requirement already satisfied: prompt-toolkit!=3.0.0,!=3.0.1,<3.1.0,>=2.0.0 in ./anaconda3/lib/python3.7/site-packages (from ipython>=4.0.0->ipywidgets>=7.5.1->squidpy) (3.0.39)\n",
      "Requirement already satisfied: backcall in ./anaconda3/lib/python3.7/site-packages (from ipython>=4.0.0->ipywidgets>=7.5.1->squidpy) (0.2.0)\n",
      "Requirement already satisfied: pexpect>4.3 in ./anaconda3/lib/python3.7/site-packages (from ipython>=4.0.0->ipywidgets>=7.5.1->squidpy) (4.8.0)\n",
      "Requirement already satisfied: cycler>=0.10 in ./anaconda3/lib/python3.7/site-packages (from matplotlib>=3.4->scanpy[leiden]>=1.7.0->squidpy) (0.11.0)\n",
      "Requirement already satisfied: fonttools>=4.22.0 in ./anaconda3/lib/python3.7/site-packages (from matplotlib>=3.4->scanpy[leiden]>=1.7.0->squidpy) (4.33.1)\n",
      "Requirement already satisfied: kiwisolver>=1.0.1 in ./anaconda3/lib/python3.7/site-packages (from matplotlib>=3.4->scanpy[leiden]>=1.7.0->squidpy) (1.4.2)\n",
      "Requirement already satisfied: pyparsing>=2.2.1 in ./anaconda3/lib/python3.7/site-packages (from matplotlib>=3.4->scanpy[leiden]>=1.7.0->squidpy) (3.0.8)\n",
      "Requirement already satisfied: jsonschema>=2.6 in ./anaconda3/lib/python3.7/site-packages (from nbformat>=4.2.0->ipywidgets>=7.5.1->squidpy) (4.4.0)\n",
      "Requirement already satisfied: jupyter-core in ./anaconda3/lib/python3.7/site-packages (from nbformat>=4.2.0->ipywidgets>=7.5.1->squidpy) (4.10.0)\n",
      "Requirement already satisfied: fastjsonschema in ./anaconda3/lib/python3.7/site-packages (from nbformat>=4.2.0->ipywidgets>=7.5.1->squidpy) (2.15.3)\n",
      "Requirement already satisfied: llvmlite<0.39,>=0.38.0rc1 in ./anaconda3/lib/python3.7/site-packages (from numba>=0.41.0->scanpy[leiden]>=1.7.0->squidpy) (0.38.0)\n",
      "Requirement already satisfied: entrypoints in ./anaconda3/lib/python3.7/site-packages (from numcodecs>=0.6.4->zarr>=2.6.1->squidpy) (0.4)\n",
      "Requirement already satisfied: locket in ./anaconda3/lib/python3.7/site-packages (from partd>=0.3.10->dask>=2.30->squidpy) (1.0.0)\n",
      "Requirement already satisfied: charset-normalizer~=2.0.0 in ./anaconda3/lib/python3.7/site-packages (from requests>=2.24.0->omnipath>=1.0.4->squidpy) (2.0.4)\n",
      "Requirement already satisfied: idna<4,>=2.5 in ./anaconda3/lib/python3.7/site-packages (from requests>=2.24.0->omnipath>=1.0.4->squidpy) (3.3)\n",
      "Requirement already satisfied: threadpoolctl>=2.0.0 in ./anaconda3/lib/python3.7/site-packages (from scikit-learn>=0.22->scanpy[leiden]>=1.7.0->squidpy) (3.1.0)\n",
      "Requirement already satisfied: pynndescent>=0.5 in ./anaconda3/lib/python3.7/site-packages (from umap-learn>=0.3.10->scanpy[leiden]>=1.7.0->squidpy) (0.5.6)\n",
      "Requirement already satisfied: notebook>=4.4.1 in ./anaconda3/lib/python3.7/site-packages (from widgetsnbextension~=3.6.0->ipywidgets>=7.5.1->squidpy) (6.4.11)\n",
      "Requirement already satisfied: igraph<0.10,>=0.9.0 in ./anaconda3/lib/python3.7/site-packages (from leidenalg->scanpy[leiden]>=1.7.0->squidpy) (0.9.11)\n",
      "Requirement already satisfied: texttable>=1.6.2 in ./anaconda3/lib/python3.7/site-packages (from igraph<0.10,>=0.9.0->leidenalg->scanpy[leiden]>=1.7.0->squidpy) (1.6.4)\n",
      "Requirement already satisfied: stdlib-list in ./anaconda3/lib/python3.7/site-packages (from session-info->scanpy[leiden]>=1.7.0->squidpy) (0.8.0)\n",
      "Requirement already satisfied: parso<0.9.0,>=0.8.0 in ./anaconda3/lib/python3.7/site-packages (from jedi>=0.16->ipython>=4.0.0->ipywidgets>=7.5.1->squidpy) (0.8.3)\n",
      "Requirement already satisfied: pyrsistent!=0.17.0,!=0.17.1,!=0.17.2,>=0.14.0 in ./anaconda3/lib/python3.7/site-packages (from jsonschema>=2.6->nbformat>=4.2.0->ipywidgets>=7.5.1->squidpy) (0.18.1)\n",
      "Requirement already satisfied: importlib-resources>=1.4.0 in ./anaconda3/lib/python3.7/site-packages (from jsonschema>=2.6->nbformat>=4.2.0->ipywidgets>=7.5.1->squidpy) (5.7.1)\n",
      "Requirement already satisfied: pyzmq>=22.3 in ./anaconda3/lib/python3.7/site-packages (from jupyter-client>=6.1.12->ipykernel>=4.5.1->ipywidgets>=7.5.1->squidpy) (22.3.0)\n",
      "Requirement already satisfied: jinja2 in ./anaconda3/lib/python3.7/site-packages (from notebook>=4.4.1->widgetsnbextension~=3.6.0->ipywidgets>=7.5.1->squidpy) (3.1.1)\n",
      "Requirement already satisfied: argon2-cffi in ./anaconda3/lib/python3.7/site-packages (from notebook>=4.4.1->widgetsnbextension~=3.6.0->ipywidgets>=7.5.1->squidpy) (21.3.0)\n",
      "Requirement already satisfied: nbconvert>=5 in ./anaconda3/lib/python3.7/site-packages (from notebook>=4.4.1->widgetsnbextension~=3.6.0->ipywidgets>=7.5.1->squidpy) (6.5.0)\n",
      "Requirement already satisfied: Send2Trash>=1.8.0 in ./anaconda3/lib/python3.7/site-packages (from notebook>=4.4.1->widgetsnbextension~=3.6.0->ipywidgets>=7.5.1->squidpy) (1.8.0)\n",
      "Requirement already satisfied: terminado>=0.8.3 in ./anaconda3/lib/python3.7/site-packages (from notebook>=4.4.1->widgetsnbextension~=3.6.0->ipywidgets>=7.5.1->squidpy) (0.13.3)\n",
      "Requirement already satisfied: prometheus-client in ./anaconda3/lib/python3.7/site-packages (from notebook>=4.4.1->widgetsnbextension~=3.6.0->ipywidgets>=7.5.1->squidpy) (0.14.1)\n",
      "Requirement already satisfied: ptyprocess>=0.5 in ./anaconda3/lib/python3.7/site-packages (from pexpect>4.3->ipython>=4.0.0->ipywidgets>=7.5.1->squidpy) (0.7.0)\n",
      "Requirement already satisfied: wcwidth in ./anaconda3/lib/python3.7/site-packages (from prompt-toolkit!=3.0.0,!=3.0.1,<3.1.0,>=2.0.0->ipython>=4.0.0->ipywidgets>=7.5.1->squidpy) (0.2.5)\n",
      "Requirement already satisfied: beautifulsoup4 in ./anaconda3/lib/python3.7/site-packages (from nbconvert>=5->notebook>=4.4.1->widgetsnbextension~=3.6.0->ipywidgets>=7.5.1->squidpy) (4.11.1)\n",
      "Requirement already satisfied: bleach in ./anaconda3/lib/python3.7/site-packages (from nbconvert>=5->notebook>=4.4.1->widgetsnbextension~=3.6.0->ipywidgets>=7.5.1->squidpy) (5.0.0)\n",
      "Requirement already satisfied: defusedxml in ./anaconda3/lib/python3.7/site-packages (from nbconvert>=5->notebook>=4.4.1->widgetsnbextension~=3.6.0->ipywidgets>=7.5.1->squidpy) (0.7.1)\n",
      "Requirement already satisfied: jupyterlab-pygments in ./anaconda3/lib/python3.7/site-packages (from nbconvert>=5->notebook>=4.4.1->widgetsnbextension~=3.6.0->ipywidgets>=7.5.1->squidpy) (0.2.2)\n",
      "Requirement already satisfied: MarkupSafe>=2.0 in ./anaconda3/lib/python3.7/site-packages (from nbconvert>=5->notebook>=4.4.1->widgetsnbextension~=3.6.0->ipywidgets>=7.5.1->squidpy) (2.1.1)\n",
      "Requirement already satisfied: mistune<2,>=0.8.1 in ./anaconda3/lib/python3.7/site-packages (from nbconvert>=5->notebook>=4.4.1->widgetsnbextension~=3.6.0->ipywidgets>=7.5.1->squidpy) (0.8.4)\n",
      "Requirement already satisfied: nbclient>=0.5.0 in ./anaconda3/lib/python3.7/site-packages (from nbconvert>=5->notebook>=4.4.1->widgetsnbextension~=3.6.0->ipywidgets>=7.5.1->squidpy) (0.6.0)\n",
      "Requirement already satisfied: pandocfilters>=1.4.1 in ./anaconda3/lib/python3.7/site-packages (from nbconvert>=5->notebook>=4.4.1->widgetsnbextension~=3.6.0->ipywidgets>=7.5.1->squidpy) (1.5.0)\n",
      "Requirement already satisfied: tinycss2 in ./anaconda3/lib/python3.7/site-packages (from nbconvert>=5->notebook>=4.4.1->widgetsnbextension~=3.6.0->ipywidgets>=7.5.1->squidpy) (1.1.1)\n",
      "Requirement already satisfied: argon2-cffi-bindings in ./anaconda3/lib/python3.7/site-packages (from argon2-cffi->notebook>=4.4.1->widgetsnbextension~=3.6.0->ipywidgets>=7.5.1->squidpy) (21.2.0)\n",
      "Requirement already satisfied: cffi>=1.0.1 in ./anaconda3/lib/python3.7/site-packages (from argon2-cffi-bindings->argon2-cffi->notebook>=4.4.1->widgetsnbextension~=3.6.0->ipywidgets>=7.5.1->squidpy) (1.15.0)\n",
      "Requirement already satisfied: soupsieve>1.2 in ./anaconda3/lib/python3.7/site-packages (from beautifulsoup4->nbconvert>=5->notebook>=4.4.1->widgetsnbextension~=3.6.0->ipywidgets>=7.5.1->squidpy) (2.3.2.post1)\n",
      "Requirement already satisfied: webencodings in ./anaconda3/lib/python3.7/site-packages (from bleach->nbconvert>=5->notebook>=4.4.1->widgetsnbextension~=3.6.0->ipywidgets>=7.5.1->squidpy) (0.5.1)\n",
      "Requirement already satisfied: pycparser in ./anaconda3/lib/python3.7/site-packages (from cffi>=1.0.1->argon2-cffi-bindings->argon2-cffi->notebook>=4.4.1->widgetsnbextension~=3.6.0->ipywidgets>=7.5.1->squidpy) (2.21)\n"
     ]
    }
   ],
   "source": [
    "!pip install squidpy"
   ]
  },
  {
   "cell_type": "code",
   "execution_count": 1,
   "metadata": {},
   "outputs": [],
   "source": [
    "import sys\n",
    "!{sys.executable} -m pip -q install palantir fa2"
   ]
  },
  {
   "cell_type": "code",
   "execution_count": 2,
   "metadata": {},
   "outputs": [],
   "source": [
    "import matplotlib.font_manager"
   ]
  },
  {
   "cell_type": "code",
   "execution_count": 3,
   "metadata": {},
   "outputs": [],
   "source": [
    "import warnings\n",
    "warnings.filterwarnings(\"ignore\")\n",
    "import pandas as pd\n",
    "from anndata import AnnData\n",
    "import numpy as np\n",
    "\n",
    "import scanpy as sc\n",
    "#import scFates as scf\n",
    "#import palantir\n",
    "import matplotlib.pyplot as plt\n",
    "sc.settings.verbosity = 3\n",
    "sc.settings.logfile = sys.stdout\n",
    "## fix palantir breaking down some plots\n",
    "import seaborn\n",
    "seaborn.reset_orig()\n",
    "%matplotlib inline\n",
    "\n",
    "sc.set_figure_params()\n",
    "#scf.set_figure_pubready()"
   ]
  },
  {
   "cell_type": "code",
   "execution_count": 5,
   "metadata": {},
   "outputs": [],
   "source": [
    "import pandas as pd\n",
    "import numpy as np\n",
    "from glob import glob\n",
    "from copy import deepcopy\n",
    "#from merlin.util import spatialfeature as sf\n",
    "#from shapely import geometry\n",
    "import scanpy as sc\n",
    "import anndata as an\n",
    "\n",
    "import matplotlib\n",
    "from matplotlib import pyplot as plt\n",
    "import matplotlib.font_manager as fm\n",
    "from mpl_toolkits.axes_grid1.anchored_artists import AnchoredSizeBar\n",
    "from matplotlib.pyplot import rc_context"
   ]
  },
  {
   "cell_type": "code",
   "execution_count": 6,
   "metadata": {},
   "outputs": [],
   "source": [
    "retina = sc.read_h5ad(r\"/mnt/g/merfish_impute.h5ad\")"
   ]
  },
  {
   "cell_type": "code",
   "execution_count": 6,
   "metadata": {},
   "outputs": [],
   "source": [
    "retina1 = sc.read_h5ad(r\"/mnt/g/VZA105a_integrated_368genes.h5ad\")"
   ]
  },
  {
   "cell_type": "code",
   "execution_count": 9,
   "metadata": {},
   "outputs": [
    {
     "ename": "NameError",
     "evalue": "name 'squidpy' is not defined",
     "output_type": "error",
     "traceback": [
      "\u001b[0;31m---------------------------------------------------------------------------\u001b[0m",
      "\u001b[0;31mNameError\u001b[0m                                 Traceback (most recent call last)",
      "\u001b[0;32m<ipython-input-9-740195c24ea5>\u001b[0m in \u001b[0;36m<module>\u001b[0;34m\u001b[0m\n\u001b[0;32m----> 1\u001b[0;31m \u001b[0msquidpy\u001b[0m \u001b[0;34m-\u001b[0m\u001b[0;34m-\u001b[0m\u001b[0mversion\u001b[0m\u001b[0;34m\u001b[0m\u001b[0;34m\u001b[0m\u001b[0m\n\u001b[0m",
      "\u001b[0;31mNameError\u001b[0m: name 'squidpy' is not defined"
     ]
    }
   ],
   "source": [
    "squidpy --version"
   ]
  },
  {
   "cell_type": "code",
   "execution_count": 18,
   "metadata": {},
   "outputs": [
    {
     "name": "stdout",
     "output_type": "stream",
     "text": [
      "Requirement already satisfied: squidpy in ./anaconda3/lib/python3.9/site-packages (1.3.1)\n",
      "Requirement already satisfied: aiohttp>=3.8.1 in ./anaconda3/lib/python3.9/site-packages (from squidpy) (3.8.6)\n",
      "Requirement already satisfied: anndata>=0.9 in ./anaconda3/lib/python3.9/site-packages (from squidpy) (0.10.2)\n",
      "Requirement already satisfied: cycler>=0.11.0 in ./anaconda3/lib/python3.9/site-packages (from squidpy) (0.12.1)\n",
      "Requirement already satisfied: dask-image>=0.5.0 in ./anaconda3/lib/python3.9/site-packages (from squidpy) (2023.8.1)\n",
      "Requirement already satisfied: dask[array]>=2021.02.0 in ./anaconda3/lib/python3.9/site-packages (from squidpy) (2023.9.3)\n",
      "Requirement already satisfied: docrep>=0.3.1 in ./anaconda3/lib/python3.9/site-packages (from squidpy) (0.3.2)\n",
      "Requirement already satisfied: fsspec>=2021.11.0 in ./anaconda3/lib/python3.9/site-packages (from squidpy) (2023.9.2)\n",
      "Requirement already satisfied: leidenalg>=0.8.2 in ./anaconda3/lib/python3.9/site-packages (from squidpy) (0.10.1)\n",
      "Requirement already satisfied: matplotlib-scalebar>=0.8.0 in ./anaconda3/lib/python3.9/site-packages (from squidpy) (0.8.1)\n",
      "Requirement already satisfied: matplotlib>=3.3 in ./anaconda3/lib/python3.9/site-packages (from squidpy) (3.8.0)\n",
      "Requirement already satisfied: networkx>=2.6.0 in ./anaconda3/lib/python3.9/site-packages (from squidpy) (3.1)\n",
      "Requirement already satisfied: numba>=0.56.4 in ./anaconda3/lib/python3.9/site-packages (from squidpy) (0.58.0)\n",
      "Requirement already satisfied: numpy>=1.23.0 in ./anaconda3/lib/python3.9/site-packages (from squidpy) (1.23.4)\n",
      "Requirement already satisfied: omnipath>=1.0.7 in ./anaconda3/lib/python3.9/site-packages (from squidpy) (1.0.7)\n",
      "Requirement already satisfied: pandas>=2.1.0 in ./anaconda3/lib/python3.9/site-packages (from squidpy) (2.1.1)\n",
      "Requirement already satisfied: pillow>=8.0.0 in ./anaconda3/lib/python3.9/site-packages (from squidpy) (10.0.1)\n",
      "Requirement already satisfied: scanpy>=1.9.3 in ./anaconda3/lib/python3.9/site-packages (from squidpy) (1.9.5)\n",
      "Requirement already satisfied: scikit-image<=0.20,>=0.19 in ./anaconda3/lib/python3.9/site-packages (from squidpy) (0.20.0)\n",
      "Requirement already satisfied: scikit-learn>=0.24.0 in ./anaconda3/lib/python3.9/site-packages (from squidpy) (1.3.1)\n",
      "Requirement already satisfied: spatialdata in ./anaconda3/lib/python3.9/site-packages (from squidpy) (0.0.13)\n",
      "Requirement already satisfied: statsmodels>=0.12.0 in ./anaconda3/lib/python3.9/site-packages (from squidpy) (0.14.0)\n",
      "Requirement already satisfied: tifffile!=2022.4.22 in ./anaconda3/lib/python3.9/site-packages (from squidpy) (2023.9.26)\n",
      "Requirement already satisfied: tqdm>=4.50.2 in ./anaconda3/lib/python3.9/site-packages (from squidpy) (4.65.0)\n",
      "Requirement already satisfied: validators>=0.18.2 in ./anaconda3/lib/python3.9/site-packages (from squidpy) (0.22.0)\n",
      "Requirement already satisfied: xarray>=0.16.1 in ./anaconda3/lib/python3.9/site-packages (from squidpy) (2022.12.0)\n",
      "Requirement already satisfied: zarr>=2.6.1 in ./anaconda3/lib/python3.9/site-packages (from squidpy) (2.16.1)\n",
      "Requirement already satisfied: attrs>=17.3.0 in ./anaconda3/lib/python3.9/site-packages (from aiohttp>=3.8.1->squidpy) (23.1.0)\n",
      "Requirement already satisfied: charset-normalizer<4.0,>=2.0 in ./anaconda3/lib/python3.9/site-packages (from aiohttp>=3.8.1->squidpy) (2.0.4)\n",
      "Requirement already satisfied: multidict<7.0,>=4.5 in ./anaconda3/lib/python3.9/site-packages (from aiohttp>=3.8.1->squidpy) (6.0.4)\n",
      "Requirement already satisfied: async-timeout<5.0,>=4.0.0a3 in ./anaconda3/lib/python3.9/site-packages (from aiohttp>=3.8.1->squidpy) (4.0.3)\n",
      "Requirement already satisfied: yarl<2.0,>=1.0 in ./anaconda3/lib/python3.9/site-packages (from aiohttp>=3.8.1->squidpy) (1.9.2)\n",
      "Requirement already satisfied: frozenlist>=1.1.1 in ./anaconda3/lib/python3.9/site-packages (from aiohttp>=3.8.1->squidpy) (1.4.0)\n",
      "Requirement already satisfied: aiosignal>=1.1.2 in ./anaconda3/lib/python3.9/site-packages (from aiohttp>=3.8.1->squidpy) (1.3.1)\n",
      "Requirement already satisfied: array-api-compat in ./anaconda3/lib/python3.9/site-packages (from anndata>=0.9->squidpy) (1.4)\n",
      "Requirement already satisfied: exceptiongroup in ./anaconda3/lib/python3.9/site-packages (from anndata>=0.9->squidpy) (1.0.4)\n",
      "Requirement already satisfied: h5py>=3 in ./anaconda3/lib/python3.9/site-packages (from anndata>=0.9->squidpy) (3.10.0)\n",
      "Requirement already satisfied: natsort in ./anaconda3/lib/python3.9/site-packages (from anndata>=0.9->squidpy) (8.4.0)\n",
      "Requirement already satisfied: packaging>=20 in ./anaconda3/lib/python3.9/site-packages (from anndata>=0.9->squidpy) (23.1)\n",
      "Requirement already satisfied: scipy>1.4 in ./anaconda3/lib/python3.9/site-packages (from anndata>=0.9->squidpy) (1.9.1)\n",
      "Requirement already satisfied: pims>=0.4.1 in ./anaconda3/lib/python3.9/site-packages (from dask-image>=0.5.0->squidpy) (0.6.1)\n",
      "Requirement already satisfied: click>=8.0 in ./anaconda3/lib/python3.9/site-packages (from dask[array]>=2021.02.0->squidpy) (8.0.4)\n",
      "Requirement already satisfied: cloudpickle>=1.5.0 in ./anaconda3/lib/python3.9/site-packages (from dask[array]>=2021.02.0->squidpy) (2.2.1)\n",
      "Requirement already satisfied: partd>=1.2.0 in ./anaconda3/lib/python3.9/site-packages (from dask[array]>=2021.02.0->squidpy) (1.4.1)\n",
      "Requirement already satisfied: pyyaml>=5.3.1 in ./anaconda3/lib/python3.9/site-packages (from dask[array]>=2021.02.0->squidpy) (6.0)\n",
      "Requirement already satisfied: toolz>=0.10.0 in ./anaconda3/lib/python3.9/site-packages (from dask[array]>=2021.02.0->squidpy) (0.12.0)\n",
      "Requirement already satisfied: importlib-metadata>=4.13.0 in ./anaconda3/lib/python3.9/site-packages (from dask[array]>=2021.02.0->squidpy) (6.0.0)\n",
      "Requirement already satisfied: six in ./anaconda3/lib/python3.9/site-packages (from docrep>=0.3.1->squidpy) (1.16.0)\n",
      "Requirement already satisfied: igraph<0.11,>=0.10.0 in ./anaconda3/lib/python3.9/site-packages (from leidenalg>=0.8.2->squidpy) (0.10.8)\n",
      "Requirement already satisfied: contourpy>=1.0.1 in ./anaconda3/lib/python3.9/site-packages (from matplotlib>=3.3->squidpy) (1.1.1)\n",
      "Requirement already satisfied: fonttools>=4.22.0 in ./anaconda3/lib/python3.9/site-packages (from matplotlib>=3.3->squidpy) (4.43.1)\n",
      "Requirement already satisfied: kiwisolver>=1.0.1 in ./anaconda3/lib/python3.9/site-packages (from matplotlib>=3.3->squidpy) (1.4.5)\n",
      "Requirement already satisfied: pyparsing>=2.3.1 in ./anaconda3/lib/python3.9/site-packages (from matplotlib>=3.3->squidpy) (3.1.1)\n",
      "Requirement already satisfied: python-dateutil>=2.7 in ./anaconda3/lib/python3.9/site-packages (from matplotlib>=3.3->squidpy) (2.8.2)\n",
      "Requirement already satisfied: importlib-resources>=3.2.0 in ./anaconda3/lib/python3.9/site-packages (from matplotlib>=3.3->squidpy) (6.1.0)\n",
      "Requirement already satisfied: llvmlite<0.42,>=0.41.0dev0 in ./anaconda3/lib/python3.9/site-packages (from numba>=0.56.4->squidpy) (0.41.0)\n",
      "Requirement already satisfied: inflect>=4.1.0 in ./anaconda3/lib/python3.9/site-packages (from omnipath>=1.0.7->squidpy) (7.0.0)\n",
      "Requirement already satisfied: requests>=2.24.0 in ./anaconda3/lib/python3.9/site-packages (from omnipath>=1.0.7->squidpy) (2.31.0)\n",
      "Requirement already satisfied: typing-extensions>=3.7.4.3 in ./anaconda3/lib/python3.9/site-packages (from omnipath>=1.0.7->squidpy) (4.5.0)\n",
      "Requirement already satisfied: urllib3>=1.26.0 in ./anaconda3/lib/python3.9/site-packages (from omnipath>=1.0.7->squidpy) (1.26.16)\n",
      "Requirement already satisfied: wrapt>=1.12.0 in ./anaconda3/lib/python3.9/site-packages (from omnipath>=1.0.7->squidpy) (1.15.0)\n",
      "Requirement already satisfied: pytz>=2020.1 in ./anaconda3/lib/python3.9/site-packages (from pandas>=2.1.0->squidpy) (2023.3.post1)\n",
      "Requirement already satisfied: tzdata>=2022.1 in ./anaconda3/lib/python3.9/site-packages (from pandas>=2.1.0->squidpy) (2023.3)\n",
      "Requirement already satisfied: seaborn in ./anaconda3/lib/python3.9/site-packages (from scanpy>=1.9.3->squidpy) (0.13.0)\n",
      "Requirement already satisfied: patsy in ./anaconda3/lib/python3.9/site-packages (from scanpy>=1.9.3->squidpy) (0.5.3)\n",
      "Requirement already satisfied: joblib in ./anaconda3/lib/python3.9/site-packages (from scanpy>=1.9.3->squidpy) (1.3.2)\n",
      "Requirement already satisfied: umap-learn>=0.3.10 in ./anaconda3/lib/python3.9/site-packages (from scanpy>=1.9.3->squidpy) (0.5.4)\n",
      "Requirement already satisfied: session-info in ./anaconda3/lib/python3.9/site-packages (from scanpy>=1.9.3->squidpy) (1.0.0)\n",
      "Requirement already satisfied: imageio>=2.4.1 in ./anaconda3/lib/python3.9/site-packages (from scikit-image<=0.20,>=0.19->squidpy) (2.31.5)\n",
      "Requirement already satisfied: PyWavelets>=1.1.1 in ./anaconda3/lib/python3.9/site-packages (from scikit-image<=0.20,>=0.19->squidpy) (1.4.1)\n",
      "Requirement already satisfied: lazy_loader>=0.1 in ./anaconda3/lib/python3.9/site-packages (from scikit-image<=0.20,>=0.19->squidpy) (0.3)\n",
      "Requirement already satisfied: threadpoolctl>=2.0.0 in ./anaconda3/lib/python3.9/site-packages (from scikit-learn>=0.24.0->squidpy) (3.2.0)\n",
      "Requirement already satisfied: asciitree in ./anaconda3/lib/python3.9/site-packages (from zarr>=2.6.1->squidpy) (0.3.3)\n",
      "Requirement already satisfied: fasteners in ./anaconda3/lib/python3.9/site-packages (from zarr>=2.6.1->squidpy) (0.19)\n",
      "Requirement already satisfied: numcodecs>=0.10.0 in ./anaconda3/lib/python3.9/site-packages (from zarr>=2.6.1->squidpy) (0.12.0)\n",
      "Requirement already satisfied: geopandas in ./anaconda3/lib/python3.9/site-packages (from spatialdata->squidpy) (0.14.0)\n",
      "Requirement already satisfied: multiscale-spatial-image>=0.11.2 in ./anaconda3/lib/python3.9/site-packages (from spatialdata->squidpy) (0.11.2)\n",
      "Requirement already satisfied: ome-zarr>=0.7.0 in ./anaconda3/lib/python3.9/site-packages (from spatialdata->squidpy) (0.8.2)\n",
      "Requirement already satisfied: pyarrow in ./anaconda3/lib/python3.9/site-packages (from spatialdata->squidpy) (13.0.0)\n",
      "Requirement already satisfied: pygeos in ./anaconda3/lib/python3.9/site-packages (from spatialdata->squidpy) (0.14)\n",
      "Requirement already satisfied: rich in ./anaconda3/lib/python3.9/site-packages (from spatialdata->squidpy) (13.6.0)\n",
      "Requirement already satisfied: shapely>=2.0.1 in ./anaconda3/lib/python3.9/site-packages (from spatialdata->squidpy) (2.0.1)\n",
      "Requirement already satisfied: spatial-image>=0.3.0 in ./anaconda3/lib/python3.9/site-packages (from spatialdata->squidpy) (0.3.0)\n",
      "Requirement already satisfied: xarray-schema in ./anaconda3/lib/python3.9/site-packages (from spatialdata->squidpy) (0.0.3)\n",
      "Requirement already satisfied: xarray-spatial>=0.3.5 in ./anaconda3/lib/python3.9/site-packages (from spatialdata->squidpy) (0.3.7)\n",
      "Requirement already satisfied: texttable>=1.6.2 in ./anaconda3/lib/python3.9/site-packages (from igraph<0.11,>=0.10.0->leidenalg>=0.8.2->squidpy) (1.7.0)\n",
      "Requirement already satisfied: zipp>=0.5 in ./anaconda3/lib/python3.9/site-packages (from importlib-metadata>=4.13.0->dask[array]>=2021.02.0->squidpy) (3.11.0)\n",
      "Requirement already satisfied: pydantic>=1.9.1 in ./anaconda3/lib/python3.9/site-packages (from inflect>=4.1.0->omnipath>=1.0.7->squidpy) (1.10.12)\n",
      "Requirement already satisfied: xarray-datatree>=0.0.5 in ./anaconda3/lib/python3.9/site-packages (from multiscale-spatial-image>=0.11.2->spatialdata->squidpy) (0.0.12)\n",
      "Requirement already satisfied: distributed in ./anaconda3/lib/python3.9/site-packages (from ome-zarr>=0.7.0->spatialdata->squidpy) (2023.9.3)\n",
      "Requirement already satisfied: locket in ./anaconda3/lib/python3.9/site-packages (from partd>=1.2.0->dask[array]>=2021.02.0->squidpy) (1.0.0)\n",
      "Requirement already satisfied: slicerator>=0.9.8 in ./anaconda3/lib/python3.9/site-packages (from pims>=0.4.1->dask-image>=0.5.0->squidpy) (1.1.0)\n",
      "Requirement already satisfied: idna<4,>=2.5 in ./anaconda3/lib/python3.9/site-packages (from requests>=2.24.0->omnipath>=1.0.7->squidpy) (3.4)\n",
      "Requirement already satisfied: certifi>=2017.4.17 in ./anaconda3/lib/python3.9/site-packages (from requests>=2.24.0->omnipath>=1.0.7->squidpy) (2023.7.22)\n",
      "Requirement already satisfied: xarray-dataclasses>=1.1.0 in ./anaconda3/lib/python3.9/site-packages (from spatial-image>=0.3.0->spatialdata->squidpy) (1.6.0)\n",
      "Requirement already satisfied: pynndescent>=0.5 in ./anaconda3/lib/python3.9/site-packages (from umap-learn>=0.3.10->scanpy>=1.9.3->squidpy) (0.5.10)\n",
      "Requirement already satisfied: tbb>=2019.0 in ./anaconda3/lib/python3.9/site-packages (from umap-learn>=0.3.10->scanpy>=1.9.3->squidpy) (2021.10.0)\n",
      "Requirement already satisfied: datashader in ./anaconda3/lib/python3.9/site-packages (from xarray-spatial>=0.3.5->spatialdata->squidpy) (0.15.2)\n",
      "Requirement already satisfied: fiona>=1.8.21 in ./anaconda3/lib/python3.9/site-packages (from geopandas->spatialdata->squidpy) (1.9.4.post1)\n",
      "Requirement already satisfied: pyproj>=3.3.0 in ./anaconda3/lib/python3.9/site-packages (from geopandas->spatialdata->squidpy) (3.6.1)\n",
      "Requirement already satisfied: markdown-it-py>=2.2.0 in ./anaconda3/lib/python3.9/site-packages (from rich->spatialdata->squidpy) (3.0.0)\n",
      "Requirement already satisfied: pygments<3.0.0,>=2.13.0 in ./anaconda3/lib/python3.9/site-packages (from rich->spatialdata->squidpy) (2.15.1)\n",
      "Requirement already satisfied: stdlib-list in ./anaconda3/lib/python3.9/site-packages (from session-info->scanpy>=1.9.3->squidpy) (0.9.0)\n",
      "Requirement already satisfied: click-plugins>=1.0 in ./anaconda3/lib/python3.9/site-packages (from fiona>=1.8.21->geopandas->spatialdata->squidpy) (1.1.1)\n",
      "Requirement already satisfied: cligj>=0.5 in ./anaconda3/lib/python3.9/site-packages (from fiona>=1.8.21->geopandas->spatialdata->squidpy) (0.7.2)\n",
      "Requirement already satisfied: s3fs in ./anaconda3/lib/python3.9/site-packages (from fsspec>=2021.11.0->squidpy) (2023.9.2)\n",
      "Requirement already satisfied: mdurl~=0.1 in ./anaconda3/lib/python3.9/site-packages (from markdown-it-py>=2.2.0->rich->spatialdata->squidpy) (0.1.2)\n",
      "Requirement already satisfied: colorcet in ./anaconda3/lib/python3.9/site-packages (from datashader->xarray-spatial>=0.3.5->spatialdata->squidpy) (3.0.1)\n",
      "Requirement already satisfied: datashape in ./anaconda3/lib/python3.9/site-packages (from datashader->xarray-spatial>=0.3.5->spatialdata->squidpy) (0.5.2)\n",
      "Requirement already satisfied: param in ./anaconda3/lib/python3.9/site-packages (from datashader->xarray-spatial>=0.3.5->spatialdata->squidpy) (1.13.0)\n",
      "Requirement already satisfied: pyct in ./anaconda3/lib/python3.9/site-packages (from datashader->xarray-spatial>=0.3.5->spatialdata->squidpy) (0.5.0)\n",
      "Requirement already satisfied: jinja2>=2.10.3 in ./anaconda3/lib/python3.9/site-packages (from distributed->ome-zarr>=0.7.0->spatialdata->squidpy) (3.1.2)\n",
      "Requirement already satisfied: msgpack>=1.0.0 in ./anaconda3/lib/python3.9/site-packages (from distributed->ome-zarr>=0.7.0->spatialdata->squidpy) (1.0.7)\n",
      "Requirement already satisfied: psutil>=5.7.2 in ./anaconda3/lib/python3.9/site-packages (from distributed->ome-zarr>=0.7.0->spatialdata->squidpy) (5.9.0)\n",
      "Requirement already satisfied: sortedcontainers>=2.0.5 in ./anaconda3/lib/python3.9/site-packages (from distributed->ome-zarr>=0.7.0->spatialdata->squidpy) (2.4.0)\n",
      "Requirement already satisfied: tblib>=1.6.0 in ./anaconda3/lib/python3.9/site-packages (from distributed->ome-zarr>=0.7.0->spatialdata->squidpy) (2.0.0)\n",
      "Requirement already satisfied: tornado>=6.0.4 in ./anaconda3/lib/python3.9/site-packages (from distributed->ome-zarr>=0.7.0->spatialdata->squidpy) (6.3.3)\n",
      "Requirement already satisfied: zict>=3.0.0 in ./anaconda3/lib/python3.9/site-packages (from distributed->ome-zarr>=0.7.0->spatialdata->squidpy) (3.0.0)\n",
      "Requirement already satisfied: MarkupSafe>=2.0 in ./anaconda3/lib/python3.9/site-packages (from jinja2>=2.10.3->distributed->ome-zarr>=0.7.0->spatialdata->squidpy) (2.1.1)\n",
      "Requirement already satisfied: multipledispatch>=0.4.7 in ./anaconda3/lib/python3.9/site-packages (from datashape->datashader->xarray-spatial>=0.3.5->spatialdata->squidpy) (1.0.0)\n",
      "Requirement already satisfied: aiobotocore~=2.5.4 in ./anaconda3/lib/python3.9/site-packages (from s3fs->fsspec>=2021.11.0->squidpy) (2.5.4)\n",
      "Requirement already satisfied: botocore<1.31.18,>=1.31.17 in ./anaconda3/lib/python3.9/site-packages (from aiobotocore~=2.5.4->s3fs->fsspec>=2021.11.0->squidpy) (1.31.17)\n",
      "Requirement already satisfied: aioitertools<1.0.0,>=0.5.1 in ./anaconda3/lib/python3.9/site-packages (from aiobotocore~=2.5.4->s3fs->fsspec>=2021.11.0->squidpy) (0.11.0)\n",
      "Requirement already satisfied: jmespath<2.0.0,>=0.7.1 in ./anaconda3/lib/python3.9/site-packages (from botocore<1.31.18,>=1.31.17->aiobotocore~=2.5.4->s3fs->fsspec>=2021.11.0->squidpy) (1.0.1)\n"
     ]
    }
   ],
   "source": [
    "!pip install --upgrade squidpy"
   ]
  },
  {
   "cell_type": "code",
   "execution_count": 7,
   "metadata": {},
   "outputs": [
    {
     "data": {
      "text/html": [
       "<div>\n",
       "<style scoped>\n",
       "    .dataframe tbody tr th:only-of-type {\n",
       "        vertical-align: middle;\n",
       "    }\n",
       "\n",
       "    .dataframe tbody tr th {\n",
       "        vertical-align: top;\n",
       "    }\n",
       "\n",
       "    .dataframe thead th {\n",
       "        text-align: right;\n",
       "    }\n",
       "</style>\n",
       "<table border=\"1\" class=\"dataframe\">\n",
       "  <thead>\n",
       "    <tr style=\"text-align: right;\">\n",
       "      <th></th>\n",
       "      <th>sampleid</th>\n",
       "      <th>volume</th>\n",
       "      <th>center_x</th>\n",
       "      <th>center_y</th>\n",
       "      <th>assigned_transcripts</th>\n",
       "      <th>region</th>\n",
       "      <th>majorclass</th>\n",
       "      <th>subclass</th>\n",
       "    </tr>\n",
       "  </thead>\n",
       "  <tbody>\n",
       "    <tr>\n",
       "      <th>1046-0</th>\n",
       "      <td>VZG105a_WT1</td>\n",
       "      <td>2316.0</td>\n",
       "      <td>-2587.418</td>\n",
       "      <td>-4853.984</td>\n",
       "      <td>15.0</td>\n",
       "      <td>4</td>\n",
       "      <td>AC</td>\n",
       "      <td>AC_6</td>\n",
       "    </tr>\n",
       "    <tr>\n",
       "      <th>1052-0</th>\n",
       "      <td>VZG105a_WT1</td>\n",
       "      <td>739.5</td>\n",
       "      <td>-2356.044</td>\n",
       "      <td>-4523.536</td>\n",
       "      <td>33.0</td>\n",
       "      <td>4</td>\n",
       "      <td>Rod</td>\n",
       "      <td>Rod</td>\n",
       "    </tr>\n",
       "    <tr>\n",
       "      <th>1097-0</th>\n",
       "      <td>VZG105a_WT1</td>\n",
       "      <td>3189.5</td>\n",
       "      <td>4217.766</td>\n",
       "      <td>-4062.678</td>\n",
       "      <td>15.0</td>\n",
       "      <td>3</td>\n",
       "      <td>BC</td>\n",
       "      <td>BC5B</td>\n",
       "    </tr>\n",
       "    <tr>\n",
       "      <th>1146-0</th>\n",
       "      <td>VZG105a_WT1</td>\n",
       "      <td>2386.5</td>\n",
       "      <td>-3360.364</td>\n",
       "      <td>2759.678</td>\n",
       "      <td>185.0</td>\n",
       "      <td>1</td>\n",
       "      <td>Rod</td>\n",
       "      <td>Rod</td>\n",
       "    </tr>\n",
       "    <tr>\n",
       "      <th>1286-0</th>\n",
       "      <td>VZG105a_WT1</td>\n",
       "      <td>2787.0</td>\n",
       "      <td>217.496</td>\n",
       "      <td>6382.412</td>\n",
       "      <td>11.0</td>\n",
       "      <td>0</td>\n",
       "      <td>Rod</td>\n",
       "      <td>Rod</td>\n",
       "    </tr>\n",
       "    <tr>\n",
       "      <th>...</th>\n",
       "      <td>...</td>\n",
       "      <td>...</td>\n",
       "      <td>...</td>\n",
       "      <td>...</td>\n",
       "      <td>...</td>\n",
       "      <td>...</td>\n",
       "      <td>...</td>\n",
       "      <td>...</td>\n",
       "    </tr>\n",
       "    <tr>\n",
       "      <th>979016-3</th>\n",
       "      <td>VZG105a_WT4</td>\n",
       "      <td>1362.0</td>\n",
       "      <td>496.930</td>\n",
       "      <td>-5127.694</td>\n",
       "      <td>10.0</td>\n",
       "      <td>7</td>\n",
       "      <td>Rod</td>\n",
       "      <td>Rod</td>\n",
       "    </tr>\n",
       "    <tr>\n",
       "      <th>980016-3</th>\n",
       "      <td>VZG105a_WT4</td>\n",
       "      <td>7500.5</td>\n",
       "      <td>507.838</td>\n",
       "      <td>-5070.238</td>\n",
       "      <td>31.0</td>\n",
       "      <td>7</td>\n",
       "      <td>Cone</td>\n",
       "      <td>Cone</td>\n",
       "    </tr>\n",
       "    <tr>\n",
       "      <th>982016-3</th>\n",
       "      <td>VZG105a_WT4</td>\n",
       "      <td>3914.0</td>\n",
       "      <td>508.162</td>\n",
       "      <td>-5077.852</td>\n",
       "      <td>19.0</td>\n",
       "      <td>7</td>\n",
       "      <td>Rod</td>\n",
       "      <td>Rod</td>\n",
       "    </tr>\n",
       "    <tr>\n",
       "      <th>983016-3</th>\n",
       "      <td>VZG105a_WT4</td>\n",
       "      <td>2742.0</td>\n",
       "      <td>535.432</td>\n",
       "      <td>-5167.870</td>\n",
       "      <td>19.0</td>\n",
       "      <td>7</td>\n",
       "      <td>BC</td>\n",
       "      <td>BC3B</td>\n",
       "    </tr>\n",
       "    <tr>\n",
       "      <th>1016050-3</th>\n",
       "      <td>VZG105a_WT4</td>\n",
       "      <td>7763.0</td>\n",
       "      <td>1830.510</td>\n",
       "      <td>-5901.936</td>\n",
       "      <td>11.0</td>\n",
       "      <td>7</td>\n",
       "      <td>Rod</td>\n",
       "      <td>Rod</td>\n",
       "    </tr>\n",
       "  </tbody>\n",
       "</table>\n",
       "<p>113385 rows × 8 columns</p>\n",
       "</div>"
      ],
      "text/plain": [
       "              sampleid  volume  center_x  center_y  assigned_transcripts  \\\n",
       "1046-0     VZG105a_WT1  2316.0 -2587.418 -4853.984                  15.0   \n",
       "1052-0     VZG105a_WT1   739.5 -2356.044 -4523.536                  33.0   \n",
       "1097-0     VZG105a_WT1  3189.5  4217.766 -4062.678                  15.0   \n",
       "1146-0     VZG105a_WT1  2386.5 -3360.364  2759.678                 185.0   \n",
       "1286-0     VZG105a_WT1  2787.0   217.496  6382.412                  11.0   \n",
       "...                ...     ...       ...       ...                   ...   \n",
       "979016-3   VZG105a_WT4  1362.0   496.930 -5127.694                  10.0   \n",
       "980016-3   VZG105a_WT4  7500.5   507.838 -5070.238                  31.0   \n",
       "982016-3   VZG105a_WT4  3914.0   508.162 -5077.852                  19.0   \n",
       "983016-3   VZG105a_WT4  2742.0   535.432 -5167.870                  19.0   \n",
       "1016050-3  VZG105a_WT4  7763.0  1830.510 -5901.936                  11.0   \n",
       "\n",
       "           region majorclass subclass  \n",
       "1046-0          4         AC     AC_6  \n",
       "1052-0          4        Rod      Rod  \n",
       "1097-0          3         BC     BC5B  \n",
       "1146-0          1        Rod      Rod  \n",
       "1286-0          0        Rod      Rod  \n",
       "...           ...        ...      ...  \n",
       "979016-3        7        Rod      Rod  \n",
       "980016-3        7       Cone     Cone  \n",
       "982016-3        7        Rod      Rod  \n",
       "983016-3        7         BC     BC3B  \n",
       "1016050-3       7        Rod      Rod  \n",
       "\n",
       "[113385 rows x 8 columns]"
      ]
     },
     "execution_count": 7,
     "metadata": {},
     "output_type": "execute_result"
    }
   ],
   "source": [
    "retina1.obs"
   ]
  },
  {
   "cell_type": "code",
   "execution_count": 8,
   "metadata": {},
   "outputs": [],
   "source": [
    "merged_array = np.concatenate([retina1.obs['center_x'].to_numpy(), retina1.obs['center_y'].to_numpy()])"
   ]
  },
  {
   "cell_type": "code",
   "execution_count": 9,
   "metadata": {},
   "outputs": [
    {
     "data": {
      "text/plain": [
       "array([-2587.418, -2356.044,  4217.766, ..., -5077.852, -5167.87 ,\n",
       "       -5901.936])"
      ]
     },
     "execution_count": 9,
     "metadata": {},
     "output_type": "execute_result"
    }
   ],
   "source": [
    "merged_array"
   ]
  },
  {
   "cell_type": "code",
   "execution_count": 10,
   "metadata": {},
   "outputs": [],
   "source": [
    "num_rows = len(merged_array) // 2  # Determine the number of rows for the 2 columns\n",
    "two_column_array = merged_array.reshape(num_rows, 2)"
   ]
  },
  {
   "cell_type": "code",
   "execution_count": 11,
   "metadata": {},
   "outputs": [
    {
     "data": {
      "text/plain": [
       "array([[-2587.418, -2356.044],\n",
       "       [ 4217.766, -3360.364],\n",
       "       [  217.496, -3989.038],\n",
       "       ...,\n",
       "       [-5369.004, -5127.694],\n",
       "       [-5070.238, -5077.852],\n",
       "       [-5167.87 , -5901.936]])"
      ]
     },
     "execution_count": 11,
     "metadata": {},
     "output_type": "execute_result"
    }
   ],
   "source": [
    "two_column_array"
   ]
  },
  {
   "cell_type": "code",
   "execution_count": 12,
   "metadata": {},
   "outputs": [],
   "source": [
    "retina1.obsm['spatial'] = two_column_array"
   ]
  },
  {
   "cell_type": "code",
   "execution_count": 13,
   "metadata": {},
   "outputs": [],
   "source": [
    "retina1.obsm['X_umap'] = two_column_array"
   ]
  },
  {
   "cell_type": "code",
   "execution_count": 47,
   "metadata": {},
   "outputs": [
    {
     "ename": "ModuleNotFoundError",
     "evalue": "No module named 'squidpy'",
     "output_type": "error",
     "traceback": [
      "\u001b[0;31m---------------------------------------------------------------------------\u001b[0m",
      "\u001b[0;31mModuleNotFoundError\u001b[0m                       Traceback (most recent call last)",
      "\u001b[0;32m<ipython-input-47-f7cd6c3e760b>\u001b[0m in \u001b[0;36m<module>\u001b[0;34m\u001b[0m\n\u001b[0;32m----> 1\u001b[0;31m \u001b[0;32mimport\u001b[0m \u001b[0msquidpy\u001b[0m \u001b[0;32mas\u001b[0m \u001b[0msq\u001b[0m\u001b[0;34m\u001b[0m\u001b[0;34m\u001b[0m\u001b[0m\n\u001b[0m",
      "\u001b[0;31mModuleNotFoundError\u001b[0m: No module named 'squidpy'"
     ]
    }
   ],
   "source": [
    "import squidpy as sq"
   ]
  },
  {
   "cell_type": "code",
   "execution_count": 12,
   "metadata": {},
   "outputs": [
    {
     "ename": "NameError",
     "evalue": "name 'sq' is not defined",
     "output_type": "error",
     "traceback": [
      "\u001b[0;31m---------------------------------------------------------------------------\u001b[0m",
      "\u001b[0;31mNameError\u001b[0m                                 Traceback (most recent call last)",
      "\u001b[0;32m<ipython-input-12-f5101e573604>\u001b[0m in \u001b[0;36m<module>\u001b[0;34m\u001b[0m\n\u001b[0;32m----> 1\u001b[0;31m \u001b[0mprint\u001b[0m\u001b[0;34m(\u001b[0m\u001b[0;34mf\"squidpy=={sq.__version__}\"\u001b[0m\u001b[0;34m)\u001b[0m\u001b[0;34m\u001b[0m\u001b[0;34m\u001b[0m\u001b[0m\n\u001b[0m",
      "\u001b[0;31mNameError\u001b[0m: name 'sq' is not defined"
     ]
    }
   ],
   "source": [
    "print(f\"squidpy=={sq.__version__}\")"
   ]
  },
  {
   "cell_type": "code",
   "execution_count": 14,
   "metadata": {},
   "outputs": [],
   "source": [
    "retina1.write('/mnt/c/Users/Emil/Downloads/merfish.h5ad')"
   ]
  },
  {
   "cell_type": "code",
   "execution_count": 9,
   "metadata": {},
   "outputs": [
    {
     "name": "stdout",
     "output_type": "stream",
     "text": [
      "Collecting squidpy\n",
      "  Obtaining dependency information for squidpy from https://files.pythonhosted.org/packages/a3/df/9df1030d89cad8be8ca63d85cd79d6df0411d0aa269582107a729400d9bf/squidpy-1.3.1-py3-none-any.whl.metadata\n",
      "  Using cached squidpy-1.3.1-py3-none-any.whl.metadata (8.8 kB)\n",
      "Requirement already satisfied: aiohttp>=3.8.1 in ./anaconda3/lib/python3.9/site-packages (from squidpy) (3.8.6)\n",
      "Requirement already satisfied: anndata>=0.9 in ./anaconda3/lib/python3.9/site-packages (from squidpy) (0.10.2)\n",
      "Requirement already satisfied: cycler>=0.11.0 in ./anaconda3/lib/python3.9/site-packages (from squidpy) (0.12.1)\n",
      "Requirement already satisfied: dask-image>=0.5.0 in ./anaconda3/lib/python3.9/site-packages (from squidpy) (2023.8.1)\n",
      "Requirement already satisfied: dask[array]>=2021.02.0 in ./anaconda3/lib/python3.9/site-packages (from squidpy) (2023.9.3)\n",
      "Requirement already satisfied: docrep>=0.3.1 in ./anaconda3/lib/python3.9/site-packages (from squidpy) (0.3.2)\n",
      "Requirement already satisfied: fsspec>=2021.11.0 in ./anaconda3/lib/python3.9/site-packages (from squidpy) (2023.9.2)\n",
      "Requirement already satisfied: leidenalg>=0.8.2 in ./anaconda3/lib/python3.9/site-packages (from squidpy) (0.10.1)\n",
      "Requirement already satisfied: matplotlib-scalebar>=0.8.0 in ./anaconda3/lib/python3.9/site-packages (from squidpy) (0.8.1)\n",
      "Requirement already satisfied: matplotlib>=3.3 in ./anaconda3/lib/python3.9/site-packages (from squidpy) (3.8.0)\n",
      "Requirement already satisfied: networkx>=2.6.0 in ./anaconda3/lib/python3.9/site-packages (from squidpy) (3.1)\n",
      "Requirement already satisfied: numba>=0.56.4 in ./anaconda3/lib/python3.9/site-packages (from squidpy) (0.58.0)\n",
      "Requirement already satisfied: numpy>=1.23.0 in ./anaconda3/lib/python3.9/site-packages (from squidpy) (1.23.4)\n",
      "Requirement already satisfied: omnipath>=1.0.7 in ./anaconda3/lib/python3.9/site-packages (from squidpy) (1.0.7)\n",
      "Requirement already satisfied: pandas>=2.1.0 in ./anaconda3/lib/python3.9/site-packages (from squidpy) (2.1.1)\n",
      "Requirement already satisfied: pillow>=8.0.0 in ./anaconda3/lib/python3.9/site-packages (from squidpy) (10.0.1)\n",
      "Requirement already satisfied: scanpy>=1.9.3 in ./anaconda3/lib/python3.9/site-packages (from squidpy) (1.9.5)\n",
      "Requirement already satisfied: scikit-image<=0.20,>=0.19 in ./anaconda3/lib/python3.9/site-packages (from squidpy) (0.20.0)\n",
      "Requirement already satisfied: scikit-learn>=0.24.0 in ./anaconda3/lib/python3.9/site-packages (from squidpy) (1.3.1)\n",
      "Requirement already satisfied: spatialdata in ./anaconda3/lib/python3.9/site-packages (from squidpy) (0.0.13)\n",
      "Requirement already satisfied: statsmodels>=0.12.0 in ./anaconda3/lib/python3.9/site-packages (from squidpy) (0.14.0)\n",
      "Requirement already satisfied: tifffile!=2022.4.22 in ./anaconda3/lib/python3.9/site-packages (from squidpy) (2023.9.26)\n",
      "Requirement already satisfied: tqdm>=4.50.2 in ./anaconda3/lib/python3.9/site-packages (from squidpy) (4.65.0)\n",
      "Requirement already satisfied: validators>=0.18.2 in ./anaconda3/lib/python3.9/site-packages (from squidpy) (0.22.0)\n",
      "Requirement already satisfied: xarray>=0.16.1 in ./anaconda3/lib/python3.9/site-packages (from squidpy) (2022.12.0)\n",
      "Requirement already satisfied: zarr>=2.6.1 in ./anaconda3/lib/python3.9/site-packages (from squidpy) (2.16.1)\n",
      "Requirement already satisfied: attrs>=17.3.0 in ./anaconda3/lib/python3.9/site-packages (from aiohttp>=3.8.1->squidpy) (23.1.0)\n",
      "Requirement already satisfied: charset-normalizer<4.0,>=2.0 in ./anaconda3/lib/python3.9/site-packages (from aiohttp>=3.8.1->squidpy) (2.0.4)\n",
      "Requirement already satisfied: multidict<7.0,>=4.5 in ./anaconda3/lib/python3.9/site-packages (from aiohttp>=3.8.1->squidpy) (6.0.4)\n",
      "Requirement already satisfied: async-timeout<5.0,>=4.0.0a3 in ./anaconda3/lib/python3.9/site-packages (from aiohttp>=3.8.1->squidpy) (4.0.3)\n",
      "Requirement already satisfied: yarl<2.0,>=1.0 in ./anaconda3/lib/python3.9/site-packages (from aiohttp>=3.8.1->squidpy) (1.9.2)\n",
      "Requirement already satisfied: frozenlist>=1.1.1 in ./anaconda3/lib/python3.9/site-packages (from aiohttp>=3.8.1->squidpy) (1.4.0)\n",
      "Requirement already satisfied: aiosignal>=1.1.2 in ./anaconda3/lib/python3.9/site-packages (from aiohttp>=3.8.1->squidpy) (1.3.1)\n",
      "Requirement already satisfied: array-api-compat in ./anaconda3/lib/python3.9/site-packages (from anndata>=0.9->squidpy) (1.4)\n",
      "Requirement already satisfied: exceptiongroup in ./anaconda3/lib/python3.9/site-packages (from anndata>=0.9->squidpy) (1.0.4)\n",
      "Requirement already satisfied: h5py>=3 in ./anaconda3/lib/python3.9/site-packages (from anndata>=0.9->squidpy) (3.10.0)\n",
      "Requirement already satisfied: natsort in ./anaconda3/lib/python3.9/site-packages (from anndata>=0.9->squidpy) (8.4.0)\n",
      "Requirement already satisfied: packaging>=20 in ./anaconda3/lib/python3.9/site-packages (from anndata>=0.9->squidpy) (23.1)\n",
      "Requirement already satisfied: scipy>1.4 in ./anaconda3/lib/python3.9/site-packages (from anndata>=0.9->squidpy) (1.9.1)\n",
      "Requirement already satisfied: pims>=0.4.1 in ./anaconda3/lib/python3.9/site-packages (from dask-image>=0.5.0->squidpy) (0.6.1)\n",
      "Requirement already satisfied: click>=8.0 in ./anaconda3/lib/python3.9/site-packages (from dask[array]>=2021.02.0->squidpy) (8.0.4)\n",
      "Requirement already satisfied: cloudpickle>=1.5.0 in ./anaconda3/lib/python3.9/site-packages (from dask[array]>=2021.02.0->squidpy) (2.2.1)\n",
      "Requirement already satisfied: partd>=1.2.0 in ./anaconda3/lib/python3.9/site-packages (from dask[array]>=2021.02.0->squidpy) (1.4.1)\n",
      "Requirement already satisfied: pyyaml>=5.3.1 in ./anaconda3/lib/python3.9/site-packages (from dask[array]>=2021.02.0->squidpy) (6.0)\n",
      "Requirement already satisfied: toolz>=0.10.0 in ./anaconda3/lib/python3.9/site-packages (from dask[array]>=2021.02.0->squidpy) (0.12.0)\n",
      "Requirement already satisfied: importlib-metadata>=4.13.0 in ./anaconda3/lib/python3.9/site-packages (from dask[array]>=2021.02.0->squidpy) (6.0.0)\n",
      "Requirement already satisfied: six in ./anaconda3/lib/python3.9/site-packages (from docrep>=0.3.1->squidpy) (1.16.0)\n",
      "Requirement already satisfied: igraph<0.11,>=0.10.0 in ./anaconda3/lib/python3.9/site-packages (from leidenalg>=0.8.2->squidpy) (0.10.8)\n",
      "Requirement already satisfied: contourpy>=1.0.1 in ./anaconda3/lib/python3.9/site-packages (from matplotlib>=3.3->squidpy) (1.1.1)\n",
      "Requirement already satisfied: fonttools>=4.22.0 in ./anaconda3/lib/python3.9/site-packages (from matplotlib>=3.3->squidpy) (4.43.1)\n",
      "Requirement already satisfied: kiwisolver>=1.0.1 in ./anaconda3/lib/python3.9/site-packages (from matplotlib>=3.3->squidpy) (1.4.5)\n",
      "Requirement already satisfied: pyparsing>=2.3.1 in ./anaconda3/lib/python3.9/site-packages (from matplotlib>=3.3->squidpy) (3.1.1)\n",
      "Requirement already satisfied: python-dateutil>=2.7 in ./anaconda3/lib/python3.9/site-packages (from matplotlib>=3.3->squidpy) (2.8.2)\n",
      "Requirement already satisfied: importlib-resources>=3.2.0 in ./anaconda3/lib/python3.9/site-packages (from matplotlib>=3.3->squidpy) (6.1.0)\n",
      "Requirement already satisfied: llvmlite<0.42,>=0.41.0dev0 in ./anaconda3/lib/python3.9/site-packages (from numba>=0.56.4->squidpy) (0.41.0)\n",
      "Requirement already satisfied: inflect>=4.1.0 in ./anaconda3/lib/python3.9/site-packages (from omnipath>=1.0.7->squidpy) (7.0.0)\n",
      "Requirement already satisfied: requests>=2.24.0 in ./anaconda3/lib/python3.9/site-packages (from omnipath>=1.0.7->squidpy) (2.31.0)\n",
      "Requirement already satisfied: typing-extensions>=3.7.4.3 in ./anaconda3/lib/python3.9/site-packages (from omnipath>=1.0.7->squidpy) (4.5.0)\n",
      "Requirement already satisfied: urllib3>=1.26.0 in ./anaconda3/lib/python3.9/site-packages (from omnipath>=1.0.7->squidpy) (1.26.16)\n",
      "Requirement already satisfied: wrapt>=1.12.0 in ./anaconda3/lib/python3.9/site-packages (from omnipath>=1.0.7->squidpy) (1.15.0)\n",
      "Requirement already satisfied: pytz>=2020.1 in ./anaconda3/lib/python3.9/site-packages (from pandas>=2.1.0->squidpy) (2023.3.post1)\n",
      "Requirement already satisfied: tzdata>=2022.1 in ./anaconda3/lib/python3.9/site-packages (from pandas>=2.1.0->squidpy) (2023.3)\n",
      "Requirement already satisfied: seaborn in ./anaconda3/lib/python3.9/site-packages (from scanpy>=1.9.3->squidpy) (0.13.0)\n",
      "Requirement already satisfied: patsy in ./anaconda3/lib/python3.9/site-packages (from scanpy>=1.9.3->squidpy) (0.5.3)\n",
      "Requirement already satisfied: joblib in ./anaconda3/lib/python3.9/site-packages (from scanpy>=1.9.3->squidpy) (1.3.2)\n",
      "Requirement already satisfied: umap-learn>=0.3.10 in ./anaconda3/lib/python3.9/site-packages (from scanpy>=1.9.3->squidpy) (0.5.4)\n",
      "Requirement already satisfied: session-info in ./anaconda3/lib/python3.9/site-packages (from scanpy>=1.9.3->squidpy) (1.0.0)\n",
      "Requirement already satisfied: imageio>=2.4.1 in ./anaconda3/lib/python3.9/site-packages (from scikit-image<=0.20,>=0.19->squidpy) (2.31.5)\n",
      "Requirement already satisfied: PyWavelets>=1.1.1 in ./anaconda3/lib/python3.9/site-packages (from scikit-image<=0.20,>=0.19->squidpy) (1.4.1)\n",
      "Requirement already satisfied: lazy_loader>=0.1 in ./anaconda3/lib/python3.9/site-packages (from scikit-image<=0.20,>=0.19->squidpy) (0.3)\n",
      "Requirement already satisfied: threadpoolctl>=2.0.0 in ./anaconda3/lib/python3.9/site-packages (from scikit-learn>=0.24.0->squidpy) (3.2.0)\n",
      "Requirement already satisfied: asciitree in ./anaconda3/lib/python3.9/site-packages (from zarr>=2.6.1->squidpy) (0.3.3)\n",
      "Requirement already satisfied: fasteners in ./anaconda3/lib/python3.9/site-packages (from zarr>=2.6.1->squidpy) (0.19)\n",
      "Requirement already satisfied: numcodecs>=0.10.0 in ./anaconda3/lib/python3.9/site-packages (from zarr>=2.6.1->squidpy) (0.12.0)\n",
      "Requirement already satisfied: geopandas in ./anaconda3/lib/python3.9/site-packages (from spatialdata->squidpy) (0.14.0)\n",
      "Requirement already satisfied: multiscale-spatial-image>=0.11.2 in ./anaconda3/lib/python3.9/site-packages (from spatialdata->squidpy) (0.11.2)\n",
      "Requirement already satisfied: ome-zarr>=0.7.0 in ./anaconda3/lib/python3.9/site-packages (from spatialdata->squidpy) (0.8.2)\n",
      "Requirement already satisfied: pyarrow in ./anaconda3/lib/python3.9/site-packages (from spatialdata->squidpy) (13.0.0)\n",
      "Requirement already satisfied: pygeos in ./anaconda3/lib/python3.9/site-packages (from spatialdata->squidpy) (0.14)\n",
      "Requirement already satisfied: rich in ./anaconda3/lib/python3.9/site-packages (from spatialdata->squidpy) (13.6.0)\n",
      "Requirement already satisfied: shapely>=2.0.1 in ./anaconda3/lib/python3.9/site-packages (from spatialdata->squidpy) (2.0.1)\n",
      "Requirement already satisfied: spatial-image>=0.3.0 in ./anaconda3/lib/python3.9/site-packages (from spatialdata->squidpy) (0.3.0)\n",
      "Requirement already satisfied: xarray-schema in ./anaconda3/lib/python3.9/site-packages (from spatialdata->squidpy) (0.0.3)\n",
      "Requirement already satisfied: xarray-spatial>=0.3.5 in ./anaconda3/lib/python3.9/site-packages (from spatialdata->squidpy) (0.3.7)\n",
      "Requirement already satisfied: texttable>=1.6.2 in ./anaconda3/lib/python3.9/site-packages (from igraph<0.11,>=0.10.0->leidenalg>=0.8.2->squidpy) (1.7.0)\n",
      "Requirement already satisfied: zipp>=0.5 in ./anaconda3/lib/python3.9/site-packages (from importlib-metadata>=4.13.0->dask[array]>=2021.02.0->squidpy) (3.11.0)\n",
      "Requirement already satisfied: pydantic>=1.9.1 in ./anaconda3/lib/python3.9/site-packages (from inflect>=4.1.0->omnipath>=1.0.7->squidpy) (1.10.12)\n",
      "Requirement already satisfied: xarray-datatree>=0.0.5 in ./anaconda3/lib/python3.9/site-packages (from multiscale-spatial-image>=0.11.2->spatialdata->squidpy) (0.0.12)\n",
      "Requirement already satisfied: distributed in ./anaconda3/lib/python3.9/site-packages (from ome-zarr>=0.7.0->spatialdata->squidpy) (2023.9.3)\n",
      "Requirement already satisfied: locket in ./anaconda3/lib/python3.9/site-packages (from partd>=1.2.0->dask[array]>=2021.02.0->squidpy) (1.0.0)\n",
      "Requirement already satisfied: slicerator>=0.9.8 in ./anaconda3/lib/python3.9/site-packages (from pims>=0.4.1->dask-image>=0.5.0->squidpy) (1.1.0)\n",
      "Requirement already satisfied: idna<4,>=2.5 in ./anaconda3/lib/python3.9/site-packages (from requests>=2.24.0->omnipath>=1.0.7->squidpy) (3.4)\n",
      "Requirement already satisfied: certifi>=2017.4.17 in ./anaconda3/lib/python3.9/site-packages (from requests>=2.24.0->omnipath>=1.0.7->squidpy) (2023.7.22)\n",
      "Requirement already satisfied: xarray-dataclasses>=1.1.0 in ./anaconda3/lib/python3.9/site-packages (from spatial-image>=0.3.0->spatialdata->squidpy) (1.6.0)\n",
      "Requirement already satisfied: pynndescent>=0.5 in ./anaconda3/lib/python3.9/site-packages (from umap-learn>=0.3.10->scanpy>=1.9.3->squidpy) (0.5.10)\n",
      "Requirement already satisfied: tbb>=2019.0 in ./anaconda3/lib/python3.9/site-packages (from umap-learn>=0.3.10->scanpy>=1.9.3->squidpy) (2021.10.0)\n",
      "Requirement already satisfied: datashader in ./anaconda3/lib/python3.9/site-packages (from xarray-spatial>=0.3.5->spatialdata->squidpy) (0.15.2)\n",
      "Requirement already satisfied: fiona>=1.8.21 in ./anaconda3/lib/python3.9/site-packages (from geopandas->spatialdata->squidpy) (1.9.4.post1)\n",
      "Requirement already satisfied: pyproj>=3.3.0 in ./anaconda3/lib/python3.9/site-packages (from geopandas->spatialdata->squidpy) (3.6.1)\n",
      "Requirement already satisfied: markdown-it-py>=2.2.0 in ./anaconda3/lib/python3.9/site-packages (from rich->spatialdata->squidpy) (3.0.0)\n",
      "Requirement already satisfied: pygments<3.0.0,>=2.13.0 in ./anaconda3/lib/python3.9/site-packages (from rich->spatialdata->squidpy) (2.15.1)\n",
      "Requirement already satisfied: stdlib-list in ./anaconda3/lib/python3.9/site-packages (from session-info->scanpy>=1.9.3->squidpy) (0.9.0)\n",
      "Requirement already satisfied: click-plugins>=1.0 in ./anaconda3/lib/python3.9/site-packages (from fiona>=1.8.21->geopandas->spatialdata->squidpy) (1.1.1)\n",
      "Requirement already satisfied: cligj>=0.5 in ./anaconda3/lib/python3.9/site-packages (from fiona>=1.8.21->geopandas->spatialdata->squidpy) (0.7.2)\n",
      "Requirement already satisfied: s3fs in ./anaconda3/lib/python3.9/site-packages (from fsspec>=2021.11.0->squidpy) (2023.9.2)\n",
      "Requirement already satisfied: mdurl~=0.1 in ./anaconda3/lib/python3.9/site-packages (from markdown-it-py>=2.2.0->rich->spatialdata->squidpy) (0.1.2)\n",
      "Requirement already satisfied: colorcet in ./anaconda3/lib/python3.9/site-packages (from datashader->xarray-spatial>=0.3.5->spatialdata->squidpy) (3.0.1)\n",
      "Requirement already satisfied: datashape in ./anaconda3/lib/python3.9/site-packages (from datashader->xarray-spatial>=0.3.5->spatialdata->squidpy) (0.5.2)\n",
      "Requirement already satisfied: param in ./anaconda3/lib/python3.9/site-packages (from datashader->xarray-spatial>=0.3.5->spatialdata->squidpy) (1.13.0)\n",
      "Requirement already satisfied: pyct in ./anaconda3/lib/python3.9/site-packages (from datashader->xarray-spatial>=0.3.5->spatialdata->squidpy) (0.5.0)\n",
      "Requirement already satisfied: jinja2>=2.10.3 in ./anaconda3/lib/python3.9/site-packages (from distributed->ome-zarr>=0.7.0->spatialdata->squidpy) (3.1.2)\n",
      "Requirement already satisfied: msgpack>=1.0.0 in ./anaconda3/lib/python3.9/site-packages (from distributed->ome-zarr>=0.7.0->spatialdata->squidpy) (1.0.7)\n",
      "Requirement already satisfied: psutil>=5.7.2 in ./anaconda3/lib/python3.9/site-packages (from distributed->ome-zarr>=0.7.0->spatialdata->squidpy) (5.9.0)\n",
      "Requirement already satisfied: sortedcontainers>=2.0.5 in ./anaconda3/lib/python3.9/site-packages (from distributed->ome-zarr>=0.7.0->spatialdata->squidpy) (2.4.0)\n",
      "Requirement already satisfied: tblib>=1.6.0 in ./anaconda3/lib/python3.9/site-packages (from distributed->ome-zarr>=0.7.0->spatialdata->squidpy) (2.0.0)\n",
      "Requirement already satisfied: tornado>=6.0.4 in ./anaconda3/lib/python3.9/site-packages (from distributed->ome-zarr>=0.7.0->spatialdata->squidpy) (6.3.3)\n",
      "Requirement already satisfied: zict>=3.0.0 in ./anaconda3/lib/python3.9/site-packages (from distributed->ome-zarr>=0.7.0->spatialdata->squidpy) (3.0.0)\n",
      "Requirement already satisfied: MarkupSafe>=2.0 in ./anaconda3/lib/python3.9/site-packages (from jinja2>=2.10.3->distributed->ome-zarr>=0.7.0->spatialdata->squidpy) (2.1.1)\n",
      "Requirement already satisfied: multipledispatch>=0.4.7 in ./anaconda3/lib/python3.9/site-packages (from datashape->datashader->xarray-spatial>=0.3.5->spatialdata->squidpy) (1.0.0)\n",
      "Requirement already satisfied: aiobotocore~=2.5.4 in ./anaconda3/lib/python3.9/site-packages (from s3fs->fsspec>=2021.11.0->squidpy) (2.5.4)\n",
      "Requirement already satisfied: botocore<1.31.18,>=1.31.17 in ./anaconda3/lib/python3.9/site-packages (from aiobotocore~=2.5.4->s3fs->fsspec>=2021.11.0->squidpy) (1.31.17)\n",
      "Requirement already satisfied: aioitertools<1.0.0,>=0.5.1 in ./anaconda3/lib/python3.9/site-packages (from aiobotocore~=2.5.4->s3fs->fsspec>=2021.11.0->squidpy) (0.11.0)\n",
      "Requirement already satisfied: jmespath<2.0.0,>=0.7.1 in ./anaconda3/lib/python3.9/site-packages (from botocore<1.31.18,>=1.31.17->aiobotocore~=2.5.4->s3fs->fsspec>=2021.11.0->squidpy) (1.0.1)\n",
      "Using cached squidpy-1.3.1-py3-none-any.whl (145 kB)\n",
      "Installing collected packages: squidpy\n",
      "Successfully installed squidpy-1.3.1\r\n"
     ]
    }
   ],
   "source": [
    "!pip3 install squidpy"
   ]
  },
  {
   "cell_type": "code",
   "execution_count": 45,
   "metadata": {},
   "outputs": [
    {
     "ename": "SyntaxError",
     "evalue": "invalid syntax (<ipython-input-45-76cd1371f976>, line 1)",
     "output_type": "error",
     "traceback": [
      "\u001b[0;36m  File \u001b[0;32m\"<ipython-input-45-76cd1371f976>\"\u001b[0;36m, line \u001b[0;32m1\u001b[0m\n\u001b[0;31m    sq.pl.(retina1_slice, spot_size = 32, color = 'majorclass')\u001b[0m\n\u001b[0m          ^\u001b[0m\n\u001b[0;31mSyntaxError\u001b[0m\u001b[0;31m:\u001b[0m invalid syntax\n"
     ]
    }
   ],
   "source": [
    "sq.pl.(retina1_slice, spot_size = 32, color = 'majorclass')"
   ]
  },
  {
   "cell_type": "code",
   "execution_count": 46,
   "metadata": {},
   "outputs": [
    {
     "ename": "NameError",
     "evalue": "name 'sq' is not defined",
     "output_type": "error",
     "traceback": [
      "\u001b[0;31m---------------------------------------------------------------------------\u001b[0m",
      "\u001b[0;31mNameError\u001b[0m                                 Traceback (most recent call last)",
      "\u001b[0;32m<ipython-input-46-97a0b971ed76>\u001b[0m in \u001b[0;36m<module>\u001b[0;34m\u001b[0m\n\u001b[1;32m      1\u001b[0m \u001b[0mretina1_slice\u001b[0m \u001b[0;34m=\u001b[0m \u001b[0mretina1\u001b[0m\u001b[0;34m[\u001b[0m\u001b[0mretina1\u001b[0m\u001b[0;34m.\u001b[0m\u001b[0mobs\u001b[0m\u001b[0;34m.\u001b[0m\u001b[0mregion\u001b[0m \u001b[0;34m==\u001b[0m \u001b[0;36m5\u001b[0m\u001b[0;34m]\u001b[0m\u001b[0;34m.\u001b[0m\u001b[0mcopy\u001b[0m\u001b[0;34m(\u001b[0m\u001b[0;34m)\u001b[0m\u001b[0;34m\u001b[0m\u001b[0;34m\u001b[0m\u001b[0m\n\u001b[0;32m----> 2\u001b[0;31m \u001b[0msq\u001b[0m\u001b[0;34m.\u001b[0m\u001b[0mgr\u001b[0m\u001b[0;34m.\u001b[0m\u001b[0mspatial_neighbors\u001b[0m\u001b[0;34m(\u001b[0m\u001b[0mretina1_slice\u001b[0m\u001b[0;34m,\u001b[0m \u001b[0mcoord_type\u001b[0m\u001b[0;34m=\u001b[0m\u001b[0;34m\"generic\"\u001b[0m\u001b[0;34m)\u001b[0m\u001b[0;34m\u001b[0m\u001b[0;34m\u001b[0m\u001b[0m\n\u001b[0m\u001b[1;32m      3\u001b[0m \u001b[0msq\u001b[0m\u001b[0;34m.\u001b[0m\u001b[0mgr\u001b[0m\u001b[0;34m.\u001b[0m\u001b[0mnhood_enrichment\u001b[0m\u001b[0;34m(\u001b[0m\u001b[0mretina1_slice\u001b[0m\u001b[0;34m,\u001b[0m \u001b[0mcluster_key\u001b[0m\u001b[0;34m=\u001b[0m\u001b[0;34m\"majorclass\"\u001b[0m\u001b[0;34m)\u001b[0m\u001b[0;34m\u001b[0m\u001b[0;34m\u001b[0m\u001b[0m\n\u001b[1;32m      4\u001b[0m sq.pl.spatial_scatter(\n\u001b[1;32m      5\u001b[0m     \u001b[0mretina1_slice\u001b[0m\u001b[0;34m,\u001b[0m\u001b[0;34m\u001b[0m\u001b[0;34m\u001b[0m\u001b[0m\n",
      "\u001b[0;31mNameError\u001b[0m: name 'sq' is not defined"
     ]
    }
   ],
   "source": [
    "retina1_slice = retina1[retina1.obs.region == 5].copy()\n",
    "sq.gr.spatial_neighbors(retina1_slice, coord_type=\"generic\")\n",
    "sq.gr.nhood_enrichment(retina1_slice, cluster_key=\"majorclass\")\n",
    "sq.pl.spatial_scatter(\n",
    "    retina1_slice,\n",
    "    color=\"majorclass\",\n",
    "    shape=None,\n",
    "    groups=[\n",
    "        \"AC\",\n",
    "        \"Rod\",\n",
    "    ],\n",
    "    size=10,\n",
    ")"
   ]
  },
  {
   "cell_type": "code",
   "execution_count": 48,
   "metadata": {},
   "outputs": [
    {
     "data": {
      "text/plain": [
       "AnnData object with n_obs × n_vars = 14480 × 368\n",
       "    obs: 'sampleid', 'volume', 'center_x', 'center_y', 'assigned_transcripts', 'region', 'majorclass', 'subclass'\n",
       "    obsm: 'spatial', 'X_umap'"
      ]
     },
     "execution_count": 48,
     "metadata": {},
     "output_type": "execute_result"
    }
   ],
   "source": [
    "retina1_slice"
   ]
  },
  {
   "cell_type": "code",
   "execution_count": 50,
   "metadata": {},
   "outputs": [
    {
     "data": {
      "text/plain": [
       "array([[ -955.882,  -925.264],\n",
       "       [ -752.966,    83.268],\n",
       "       [-1258.574, -1345.676],\n",
       "       ...,\n",
       "       [ 4238.88 ,  3320.528],\n",
       "       [-5315.382, -5082.388],\n",
       "       [-2437.352,    33.75 ]])"
      ]
     },
     "execution_count": 50,
     "metadata": {},
     "output_type": "execute_result"
    }
   ],
   "source": [
    "retina1_slice.obsm['spatial']"
   ]
  },
  {
   "cell_type": "code",
   "execution_count": 6,
   "metadata": {},
   "outputs": [
    {
     "ename": "ModuleNotFoundError",
     "evalue": "No module named 'squidpy'",
     "output_type": "error",
     "traceback": [
      "\u001b[0;31m---------------------------------------------------------------------------\u001b[0m",
      "\u001b[0;31mModuleNotFoundError\u001b[0m                       Traceback (most recent call last)",
      "\u001b[0;32m<ipython-input-6-f7cd6c3e760b>\u001b[0m in \u001b[0;36m<module>\u001b[0;34m\u001b[0m\n\u001b[0;32m----> 1\u001b[0;31m \u001b[0;32mimport\u001b[0m \u001b[0msquidpy\u001b[0m \u001b[0;32mas\u001b[0m \u001b[0msq\u001b[0m\u001b[0;34m\u001b[0m\u001b[0;34m\u001b[0m\u001b[0m\n\u001b[0m",
      "\u001b[0;31mModuleNotFoundError\u001b[0m: No module named 'squidpy'"
     ]
    }
   ],
   "source": [
    "import squidpy as sq"
   ]
  },
  {
   "cell_type": "code",
   "execution_count": 55,
   "metadata": {},
   "outputs": [
    {
     "data": {
      "text/html": [
       "<div>\n",
       "<style scoped>\n",
       "    .dataframe tbody tr th:only-of-type {\n",
       "        vertical-align: middle;\n",
       "    }\n",
       "\n",
       "    .dataframe tbody tr th {\n",
       "        vertical-align: top;\n",
       "    }\n",
       "\n",
       "    .dataframe thead th {\n",
       "        text-align: right;\n",
       "    }\n",
       "</style>\n",
       "<table border=\"1\" class=\"dataframe\">\n",
       "  <thead>\n",
       "    <tr style=\"text-align: right;\">\n",
       "      <th></th>\n",
       "      <th>sampleid</th>\n",
       "      <th>volume</th>\n",
       "      <th>center_x</th>\n",
       "      <th>center_y</th>\n",
       "      <th>assigned_transcripts</th>\n",
       "      <th>region</th>\n",
       "      <th>majorclass</th>\n",
       "      <th>subclass</th>\n",
       "    </tr>\n",
       "  </thead>\n",
       "  <tbody>\n",
       "    <tr>\n",
       "      <th>3489-1</th>\n",
       "      <td>VZG105a_WT2</td>\n",
       "      <td>2618.5</td>\n",
       "      <td>-5675.098</td>\n",
       "      <td>1411.610</td>\n",
       "      <td>18.0</td>\n",
       "      <td>5</td>\n",
       "      <td>Cone</td>\n",
       "      <td>Cone</td>\n",
       "    </tr>\n",
       "    <tr>\n",
       "      <th>3537-1</th>\n",
       "      <td>VZG105a_WT2</td>\n",
       "      <td>3502.0</td>\n",
       "      <td>-3785.798</td>\n",
       "      <td>1807.954</td>\n",
       "      <td>20.0</td>\n",
       "      <td>5</td>\n",
       "      <td>AC</td>\n",
       "      <td>AC_41</td>\n",
       "    </tr>\n",
       "    <tr>\n",
       "      <th>4537-1</th>\n",
       "      <td>VZG105a_WT2</td>\n",
       "      <td>2291.5</td>\n",
       "      <td>-3784.556</td>\n",
       "      <td>1801.636</td>\n",
       "      <td>24.0</td>\n",
       "      <td>5</td>\n",
       "      <td>AC</td>\n",
       "      <td>AC_20</td>\n",
       "    </tr>\n",
       "    <tr>\n",
       "      <th>5490-1</th>\n",
       "      <td>VZG105a_WT2</td>\n",
       "      <td>2999.0</td>\n",
       "      <td>-5770.246</td>\n",
       "      <td>1217.982</td>\n",
       "      <td>24.0</td>\n",
       "      <td>5</td>\n",
       "      <td>Cone</td>\n",
       "      <td>Cone</td>\n",
       "    </tr>\n",
       "    <tr>\n",
       "      <th>5516-1</th>\n",
       "      <td>VZG105a_WT2</td>\n",
       "      <td>1867.5</td>\n",
       "      <td>-4786.176</td>\n",
       "      <td>1935.594</td>\n",
       "      <td>61.0</td>\n",
       "      <td>5</td>\n",
       "      <td>AC</td>\n",
       "      <td>AC_44</td>\n",
       "    </tr>\n",
       "    <tr>\n",
       "      <th>...</th>\n",
       "      <td>...</td>\n",
       "      <td>...</td>\n",
       "      <td>...</td>\n",
       "      <td>...</td>\n",
       "      <td>...</td>\n",
       "      <td>...</td>\n",
       "      <td>...</td>\n",
       "      <td>...</td>\n",
       "    </tr>\n",
       "    <tr>\n",
       "      <th>889365-3</th>\n",
       "      <td>VZG105a_WT4</td>\n",
       "      <td>3386.0</td>\n",
       "      <td>3369.128</td>\n",
       "      <td>90.450</td>\n",
       "      <td>22.0</td>\n",
       "      <td>5</td>\n",
       "      <td>Rod</td>\n",
       "      <td>Rod</td>\n",
       "    </tr>\n",
       "    <tr>\n",
       "      <th>890365-3</th>\n",
       "      <td>VZG105a_WT4</td>\n",
       "      <td>3539.5</td>\n",
       "      <td>3372.530</td>\n",
       "      <td>100.170</td>\n",
       "      <td>14.0</td>\n",
       "      <td>5</td>\n",
       "      <td>Rod</td>\n",
       "      <td>Rod</td>\n",
       "    </tr>\n",
       "    <tr>\n",
       "      <th>891365-3</th>\n",
       "      <td>VZG105a_WT4</td>\n",
       "      <td>2937.0</td>\n",
       "      <td>3374.312</td>\n",
       "      <td>89.316</td>\n",
       "      <td>29.0</td>\n",
       "      <td>5</td>\n",
       "      <td>Rod</td>\n",
       "      <td>Rod</td>\n",
       "    </tr>\n",
       "    <tr>\n",
       "      <th>892365-3</th>\n",
       "      <td>VZG105a_WT4</td>\n",
       "      <td>7731.5</td>\n",
       "      <td>3379.010</td>\n",
       "      <td>94.338</td>\n",
       "      <td>46.0</td>\n",
       "      <td>5</td>\n",
       "      <td>Rod</td>\n",
       "      <td>Rod</td>\n",
       "    </tr>\n",
       "    <tr>\n",
       "      <th>894365-3</th>\n",
       "      <td>VZG105a_WT4</td>\n",
       "      <td>5370.5</td>\n",
       "      <td>3393.104</td>\n",
       "      <td>76.680</td>\n",
       "      <td>13.0</td>\n",
       "      <td>5</td>\n",
       "      <td>Rod</td>\n",
       "      <td>Rod</td>\n",
       "    </tr>\n",
       "  </tbody>\n",
       "</table>\n",
       "<p>14480 rows × 8 columns</p>\n",
       "</div>"
      ],
      "text/plain": [
       "             sampleid  volume  center_x  center_y  assigned_transcripts  \\\n",
       "3489-1    VZG105a_WT2  2618.5 -5675.098  1411.610                  18.0   \n",
       "3537-1    VZG105a_WT2  3502.0 -3785.798  1807.954                  20.0   \n",
       "4537-1    VZG105a_WT2  2291.5 -3784.556  1801.636                  24.0   \n",
       "5490-1    VZG105a_WT2  2999.0 -5770.246  1217.982                  24.0   \n",
       "5516-1    VZG105a_WT2  1867.5 -4786.176  1935.594                  61.0   \n",
       "...               ...     ...       ...       ...                   ...   \n",
       "889365-3  VZG105a_WT4  3386.0  3369.128    90.450                  22.0   \n",
       "890365-3  VZG105a_WT4  3539.5  3372.530   100.170                  14.0   \n",
       "891365-3  VZG105a_WT4  2937.0  3374.312    89.316                  29.0   \n",
       "892365-3  VZG105a_WT4  7731.5  3379.010    94.338                  46.0   \n",
       "894365-3  VZG105a_WT4  5370.5  3393.104    76.680                  13.0   \n",
       "\n",
       "          region majorclass subclass  \n",
       "3489-1         5       Cone     Cone  \n",
       "3537-1         5         AC    AC_41  \n",
       "4537-1         5         AC    AC_20  \n",
       "5490-1         5       Cone     Cone  \n",
       "5516-1         5         AC    AC_44  \n",
       "...          ...        ...      ...  \n",
       "889365-3       5        Rod      Rod  \n",
       "890365-3       5        Rod      Rod  \n",
       "891365-3       5        Rod      Rod  \n",
       "892365-3       5        Rod      Rod  \n",
       "894365-3       5        Rod      Rod  \n",
       "\n",
       "[14480 rows x 8 columns]"
      ]
     },
     "execution_count": 55,
     "metadata": {},
     "output_type": "execute_result"
    }
   ],
   "source": [
    "transcript_indv.obs"
   ]
  },
  {
   "cell_type": "code",
   "execution_count": 7,
   "metadata": {},
   "outputs": [
    {
     "ename": "ModuleNotFoundError",
     "evalue": "No module named 'squidpy'",
     "output_type": "error",
     "traceback": [
      "\u001b[0;31m---------------------------------------------------------------------------\u001b[0m",
      "\u001b[0;31mModuleNotFoundError\u001b[0m                       Traceback (most recent call last)",
      "\u001b[0;32m<ipython-input-7-38b4d037ae42>\u001b[0m in \u001b[0;36m<module>\u001b[0;34m\u001b[0m\n\u001b[1;32m      1\u001b[0m \u001b[0;32mimport\u001b[0m \u001b[0mscanpy\u001b[0m \u001b[0;32mas\u001b[0m \u001b[0msc\u001b[0m\u001b[0;34m\u001b[0m\u001b[0;34m\u001b[0m\u001b[0m\n\u001b[0;32m----> 2\u001b[0;31m \u001b[0;32mimport\u001b[0m \u001b[0msquidpy\u001b[0m \u001b[0;32mas\u001b[0m \u001b[0msq\u001b[0m\u001b[0;34m\u001b[0m\u001b[0;34m\u001b[0m\u001b[0m\n\u001b[0m\u001b[1;32m      3\u001b[0m \u001b[0;34m\u001b[0m\u001b[0m\n\u001b[1;32m      4\u001b[0m \u001b[0msc\u001b[0m\u001b[0;34m.\u001b[0m\u001b[0mlogging\u001b[0m\u001b[0;34m.\u001b[0m\u001b[0mprint_header\u001b[0m\u001b[0;34m(\u001b[0m\u001b[0;34m)\u001b[0m\u001b[0;34m\u001b[0m\u001b[0;34m\u001b[0m\u001b[0m\n\u001b[1;32m      5\u001b[0m \u001b[0mprint\u001b[0m\u001b[0;34m(\u001b[0m\u001b[0;34mf\"squidpy=={sq.__version__}\"\u001b[0m\u001b[0;34m)\u001b[0m\u001b[0;34m\u001b[0m\u001b[0;34m\u001b[0m\u001b[0m\n",
      "\u001b[0;31mModuleNotFoundError\u001b[0m: No module named 'squidpy'"
     ]
    }
   ],
   "source": [
    "import scanpy as sc\n",
    "import squidpy as sq\n",
    "\n",
    "sc.logging.print_header()\n",
    "print(f\"squidpy=={sq.__version__}\")"
   ]
  },
  {
   "cell_type": "code",
   "execution_count": 60,
   "metadata": {},
   "outputs": [
    {
     "ename": "IndexError",
     "evalue": "Unknown indexer ['Cone', 'AC', 'AC', 'Cone', 'AC', ..., 'Rod', 'Rod', 'Rod', 'Rod', 'Rod']\nLength: 14480\nCategories (7, object): ['AC', 'BC', 'Cone', 'HC', 'MG', 'RGC', 'Rod'] of type <class 'pandas.core.arrays.categorical.Categorical'>",
     "output_type": "error",
     "traceback": [
      "\u001b[0;31m---------------------------------------------------------------------------\u001b[0m",
      "\u001b[0;31mIndexError\u001b[0m                                Traceback (most recent call last)",
      "\u001b[0;32m<ipython-input-60-298434ad87e2>\u001b[0m in \u001b[0;36m<module>\u001b[0;34m\u001b[0m\n\u001b[0;32m----> 1\u001b[0;31m \u001b[0mtranscript_indv\u001b[0m\u001b[0;34m[\u001b[0m\u001b[0mtranscript_indv\u001b[0m\u001b[0;34m.\u001b[0m\u001b[0mobs\u001b[0m\u001b[0;34m[\u001b[0m\u001b[0;34m'majorclass'\u001b[0m\u001b[0;34m]\u001b[0m\u001b[0;34m]\u001b[0m\u001b[0;34m[\u001b[0m\u001b[0;34m'center_x'\u001b[0m\u001b[0;34m]\u001b[0m\u001b[0;34m\u001b[0m\u001b[0;34m\u001b[0m\u001b[0m\n\u001b[0m",
      "\u001b[0;32m~/.local/lib/python3.8/site-packages/anndata/_core/anndata.py\u001b[0m in \u001b[0;36m__getitem__\u001b[0;34m(self, index)\u001b[0m\n\u001b[1;32m   1106\u001b[0m     \u001b[0;32mdef\u001b[0m \u001b[0m__getitem__\u001b[0m\u001b[0;34m(\u001b[0m\u001b[0mself\u001b[0m\u001b[0;34m,\u001b[0m \u001b[0mindex\u001b[0m\u001b[0;34m:\u001b[0m \u001b[0mIndex\u001b[0m\u001b[0;34m)\u001b[0m \u001b[0;34m->\u001b[0m \u001b[0;34m\"AnnData\"\u001b[0m\u001b[0;34m:\u001b[0m\u001b[0;34m\u001b[0m\u001b[0;34m\u001b[0m\u001b[0m\n\u001b[1;32m   1107\u001b[0m         \u001b[0;34m\"\"\"Returns a sliced view of the object.\"\"\"\u001b[0m\u001b[0;34m\u001b[0m\u001b[0;34m\u001b[0m\u001b[0m\n\u001b[0;32m-> 1108\u001b[0;31m         \u001b[0moidx\u001b[0m\u001b[0;34m,\u001b[0m \u001b[0mvidx\u001b[0m \u001b[0;34m=\u001b[0m \u001b[0mself\u001b[0m\u001b[0;34m.\u001b[0m\u001b[0m_normalize_indices\u001b[0m\u001b[0;34m(\u001b[0m\u001b[0mindex\u001b[0m\u001b[0;34m)\u001b[0m\u001b[0;34m\u001b[0m\u001b[0;34m\u001b[0m\u001b[0m\n\u001b[0m\u001b[1;32m   1109\u001b[0m         \u001b[0;32mreturn\u001b[0m \u001b[0mAnnData\u001b[0m\u001b[0;34m(\u001b[0m\u001b[0mself\u001b[0m\u001b[0;34m,\u001b[0m \u001b[0moidx\u001b[0m\u001b[0;34m=\u001b[0m\u001b[0moidx\u001b[0m\u001b[0;34m,\u001b[0m \u001b[0mvidx\u001b[0m\u001b[0;34m=\u001b[0m\u001b[0mvidx\u001b[0m\u001b[0;34m,\u001b[0m \u001b[0masview\u001b[0m\u001b[0;34m=\u001b[0m\u001b[0;32mTrue\u001b[0m\u001b[0;34m)\u001b[0m\u001b[0;34m\u001b[0m\u001b[0;34m\u001b[0m\u001b[0m\n\u001b[1;32m   1110\u001b[0m \u001b[0;34m\u001b[0m\u001b[0m\n",
      "\u001b[0;32m~/.local/lib/python3.8/site-packages/anndata/_core/anndata.py\u001b[0m in \u001b[0;36m_normalize_indices\u001b[0;34m(self, index)\u001b[0m\n\u001b[1;32m   1087\u001b[0m \u001b[0;34m\u001b[0m\u001b[0m\n\u001b[1;32m   1088\u001b[0m     \u001b[0;32mdef\u001b[0m \u001b[0m_normalize_indices\u001b[0m\u001b[0;34m(\u001b[0m\u001b[0mself\u001b[0m\u001b[0;34m,\u001b[0m \u001b[0mindex\u001b[0m\u001b[0;34m:\u001b[0m \u001b[0mOptional\u001b[0m\u001b[0;34m[\u001b[0m\u001b[0mIndex\u001b[0m\u001b[0;34m]\u001b[0m\u001b[0;34m)\u001b[0m \u001b[0;34m->\u001b[0m \u001b[0mTuple\u001b[0m\u001b[0;34m[\u001b[0m\u001b[0mslice\u001b[0m\u001b[0;34m,\u001b[0m \u001b[0mslice\u001b[0m\u001b[0;34m]\u001b[0m\u001b[0;34m:\u001b[0m\u001b[0;34m\u001b[0m\u001b[0;34m\u001b[0m\u001b[0m\n\u001b[0;32m-> 1089\u001b[0;31m         \u001b[0;32mreturn\u001b[0m \u001b[0m_normalize_indices\u001b[0m\u001b[0;34m(\u001b[0m\u001b[0mindex\u001b[0m\u001b[0;34m,\u001b[0m \u001b[0mself\u001b[0m\u001b[0;34m.\u001b[0m\u001b[0mobs_names\u001b[0m\u001b[0;34m,\u001b[0m \u001b[0mself\u001b[0m\u001b[0;34m.\u001b[0m\u001b[0mvar_names\u001b[0m\u001b[0;34m)\u001b[0m\u001b[0;34m\u001b[0m\u001b[0;34m\u001b[0m\u001b[0m\n\u001b[0m\u001b[1;32m   1090\u001b[0m \u001b[0;34m\u001b[0m\u001b[0m\n\u001b[1;32m   1091\u001b[0m     \u001b[0;31m# TODO: this is not quite complete...\u001b[0m\u001b[0;34m\u001b[0m\u001b[0;34m\u001b[0m\u001b[0;34m\u001b[0m\u001b[0m\n",
      "\u001b[0;32m~/.local/lib/python3.8/site-packages/anndata/_core/index.py\u001b[0m in \u001b[0;36m_normalize_indices\u001b[0;34m(index, names0, names1)\u001b[0m\n\u001b[1;32m     30\u001b[0m             \u001b[0mindex\u001b[0m \u001b[0;34m=\u001b[0m \u001b[0mindex\u001b[0m\u001b[0;34m[\u001b[0m\u001b[0;36m0\u001b[0m\u001b[0;34m]\u001b[0m\u001b[0;34m.\u001b[0m\u001b[0mvalues\u001b[0m\u001b[0;34m,\u001b[0m \u001b[0mindex\u001b[0m\u001b[0;34m[\u001b[0m\u001b[0;36m1\u001b[0m\u001b[0;34m]\u001b[0m\u001b[0;34m\u001b[0m\u001b[0;34m\u001b[0m\u001b[0m\n\u001b[1;32m     31\u001b[0m     \u001b[0max0\u001b[0m\u001b[0;34m,\u001b[0m \u001b[0max1\u001b[0m \u001b[0;34m=\u001b[0m \u001b[0munpack_index\u001b[0m\u001b[0;34m(\u001b[0m\u001b[0mindex\u001b[0m\u001b[0;34m)\u001b[0m\u001b[0;34m\u001b[0m\u001b[0;34m\u001b[0m\u001b[0m\n\u001b[0;32m---> 32\u001b[0;31m     \u001b[0max0\u001b[0m \u001b[0;34m=\u001b[0m \u001b[0m_normalize_index\u001b[0m\u001b[0;34m(\u001b[0m\u001b[0max0\u001b[0m\u001b[0;34m,\u001b[0m \u001b[0mnames0\u001b[0m\u001b[0;34m)\u001b[0m\u001b[0;34m\u001b[0m\u001b[0;34m\u001b[0m\u001b[0m\n\u001b[0m\u001b[1;32m     33\u001b[0m     \u001b[0max1\u001b[0m \u001b[0;34m=\u001b[0m \u001b[0m_normalize_index\u001b[0m\u001b[0;34m(\u001b[0m\u001b[0max1\u001b[0m\u001b[0;34m,\u001b[0m \u001b[0mnames1\u001b[0m\u001b[0;34m)\u001b[0m\u001b[0;34m\u001b[0m\u001b[0;34m\u001b[0m\u001b[0m\n\u001b[1;32m     34\u001b[0m     \u001b[0;32mreturn\u001b[0m \u001b[0max0\u001b[0m\u001b[0;34m,\u001b[0m \u001b[0max1\u001b[0m\u001b[0;34m\u001b[0m\u001b[0;34m\u001b[0m\u001b[0m\n",
      "\u001b[0;32m~/.local/lib/python3.8/site-packages/anndata/_core/index.py\u001b[0m in \u001b[0;36m_normalize_index\u001b[0;34m(indexer, index)\u001b[0m\n\u001b[1;32m    102\u001b[0m             \u001b[0;32mreturn\u001b[0m \u001b[0mpositions\u001b[0m  \u001b[0;31m# np.ndarray[int]\u001b[0m\u001b[0;34m\u001b[0m\u001b[0;34m\u001b[0m\u001b[0m\n\u001b[1;32m    103\u001b[0m     \u001b[0;32melse\u001b[0m\u001b[0;34m:\u001b[0m\u001b[0;34m\u001b[0m\u001b[0;34m\u001b[0m\u001b[0m\n\u001b[0;32m--> 104\u001b[0;31m         \u001b[0;32mraise\u001b[0m \u001b[0mIndexError\u001b[0m\u001b[0;34m(\u001b[0m\u001b[0;34mf\"Unknown indexer {indexer!r} of type {type(indexer)}\"\u001b[0m\u001b[0;34m)\u001b[0m\u001b[0;34m\u001b[0m\u001b[0;34m\u001b[0m\u001b[0m\n\u001b[0m\u001b[1;32m    105\u001b[0m \u001b[0;34m\u001b[0m\u001b[0m\n\u001b[1;32m    106\u001b[0m \u001b[0;34m\u001b[0m\u001b[0m\n",
      "\u001b[0;31mIndexError\u001b[0m: Unknown indexer ['Cone', 'AC', 'AC', 'Cone', 'AC', ..., 'Rod', 'Rod', 'Rod', 'Rod', 'Rod']\nLength: 14480\nCategories (7, object): ['AC', 'BC', 'Cone', 'HC', 'MG', 'RGC', 'Rod'] of type <class 'pandas.core.arrays.categorical.Categorical'>"
     ]
    }
   ],
   "source": [
    "transcript_indv[transcript_indv.obs['majorclass']]['center_x']"
   ]
  },
  {
   "cell_type": "code",
   "execution_count": 113,
   "metadata": {},
   "outputs": [
    {
     "data": {
      "text/plain": [
       "<matplotlib.legend.Legend at 0x7fd1f7ab15e0>"
      ]
     },
     "execution_count": 113,
     "metadata": {},
     "output_type": "execute_result"
    },
    {
     "data": {
      "text/plain": [
       "<Figure size 432x288 with 0 Axes>"
      ]
     },
     "metadata": {},
     "output_type": "display_data"
    },
    {
     "data": {
      "image/png": "[encoded data removed]",
      "text/plain": [
       "<Figure size 1080x1080 with 1 Axes>"
      ]
     },
     "metadata": {},
     "output_type": "display_data"
    }
   ],
   "source": [
    "section_n = 6\n",
    "transcript_indv = retina1[retina1.obs['region']==section_n]\n",
    "\n",
    "matplotlib.rcParams.update({'font.size': 30})\n",
    "plt.figure()\n",
    "fig, ax = plt.subplots(figsize=(15,15))\n",
    "plt.scatter(transcript_indv.obs['center_x'], transcript_indv.obs['center_y'], s=1, c = 'gray', alpha=0.2)\n",
    "\n",
    "gene_names = ['Rod', 'AC', 'BC', 'Cone', 'HC', 'MG','RGC']\n",
    "colors = np.random.rand(len(gene_names),).tolist()\n",
    "\n",
    "plt.xlabel(\"x_coordinate\")\n",
    "plt.ylabel(\"y_coordinate\")\n",
    "plt.xticks([])\n",
    "plt.yticks([])\n",
    "\n",
    "fontprops = fm.FontProperties(size=18)\n",
    "scalebar = AnchoredSizeBar(ax.transData,\n",
    "                           250, '250 microns', 'lower right', \n",
    "                           pad=0.1,\n",
    "                           color='black',\n",
    "                           frameon=False,\n",
    "                           size_vertical=1,\n",
    "                           fontproperties=fontprops)\n",
    "\n",
    "ax.add_artist(scalebar)\n",
    "for c, n in zip (colors, gene_names):\n",
    "    ax.scatter(transcript_indv.obs[transcript_indv.obs['majorclass']==n]['center_x'],\n",
    "          transcript_indv.obs[transcript_indv.obs['majorclass'] == n]['center_y'], label=n,\n",
    "             s=10, alpha=0.8, edgecolors = 'white', linewidths = 0.2)\n",
    "ax.legend(scatterpoints=1, markerscale =4, fontsize=25, loc= 'upper right', bbox_to_anchor = (1,1), ncol = 2)      "
   ]
  },
  {
   "cell_type": "code",
   "execution_count": 112,
   "metadata": {},
   "outputs": [
    {
     "data": {
      "text/plain": [
       "<matplotlib.legend.Legend at 0x7fd1f6789c10>"
      ]
     },
     "execution_count": 112,
     "metadata": {},
     "output_type": "execute_result"
    },
    {
     "data": {
      "text/plain": [
       "<Figure size 432x288 with 0 Axes>"
      ]
     },
     "metadata": {},
     "output_type": "display_data"
    },
    {
     "data": {
      "image/png": "[encoded data removed]",
      "text/plain": [
       "<Figure size 1080x1080 with 1 Axes>"
      ]
     },
     "metadata": {},
     "output_type": "display_data"
    }
   ],
   "source": [
    "section_n = 5\n",
    "transcript_indv = retina1[retina1.obs['region']==section_n]\n",
    "\n",
    "matplotlib.rcParams.update({'font.size': 30})\n",
    "plt.figure()\n",
    "fig, ax = plt.subplots(figsize=(15,15))\n",
    "plt.scatter(transcript_indv.obs['center_x'], transcript_indv.obs['center_y'], s=1, c = 'gray', alpha=0.2)\n",
    "\n",
    "gene_names = ['Nrl','Adra2a','Grm6', 'Pde6a', 'Onecut2', 'Slc17a6', 'Pde6c', 'Tfap2a']\n",
    "colors = np.random.rand(len(gene_names),).tolist()\n",
    "\n",
    "plt.xlabel(\"x_coordinate\")\n",
    "plt.ylabel(\"y_coordinate\")\n",
    "plt.xticks([])\n",
    "plt.yticks([])\n",
    "\n",
    "fontprops = fm.FontProperties(size=18)\n",
    "scalebar = AnchoredSizeBar(ax.transData,\n",
    "                           250, '250 microns', 'lower right', \n",
    "                           pad=0.1,\n",
    "                           color='black',\n",
    "                           frameon=False,\n",
    "                           size_vertical=1,\n",
    "                           fontproperties=fontprops)\n",
    "\n",
    "ax.add_artist(scalebar)\n",
    "for c, n in zip (colors, gene_names):\n",
    "    ax.scatter(transcript_indv.obs['center_x'][transcript_indv.var.loc[n]],\n",
    "          transcript_indv.obs['center_y'][transcript_indv.var.loc[n]], label=n,\n",
    "             s=10, alpha=0.8, edgecolors = 'white', linewidths = 0.2)\n",
    "ax.legend(scatterpoints=1, markerscale =4, fontsize=25, loc= 'upper right', bbox_to_anchor = (1,1), ncol = 2) "
   ]
  },
  {
   "cell_type": "code",
   "execution_count": 60,
   "metadata": {},
   "outputs": [
    {
     "data": {
      "text/plain": [
       "7087-7      False\n",
       "9033-7       True\n",
       "9082-7      False\n",
       "10035-7      True\n",
       "12013-7      True\n",
       "            ...  \n",
       "833053-3    False\n",
       "834053-3    False\n",
       "856218-3    False\n",
       "887017-3    False\n",
       "888017-3    False\n",
       "Name: region, Length: 355354, dtype: bool"
      ]
     },
     "execution_count": 60,
     "metadata": {},
     "output_type": "execute_result"
    }
   ],
   "source": [
    "for c, n in zip (colors, gene_names):\n",
    "     ax.scatter(transcript_indv[transcript_indv.obs['majorclass'] == n]['center_x'],\n",
    "          transcript_indv[transcript_indv.obs['majorclass'] == n]['center_y'], label=n,\n",
    "             s=10, alpha=0.8, edgecolors = 'white', linewidths = 0.2)\n",
    "ax.legend(scatterpoints=1, markerscale =4, fontsize=25, loc= 'upper right', bbox_to_anchor = (1,1), ncol = 2)   "
   ]
  },
  {
   "cell_type": "code",
   "execution_count": 58,
   "metadata": {},
   "outputs": [
    {
     "data": {
      "text/plain": [
       "View of AnnData object with n_obs × n_vars = 52229 × 28663\n",
       "    obs: 'sampleid', 'volume', 'center_x', 'center_y', 'assigned_transcripts', 'region', 'majorclass', 'subclass'"
      ]
     },
     "execution_count": 58,
     "metadata": {},
     "output_type": "execute_result"
    }
   ],
   "source": [
    "retina[retina.obs['region']==section_n]"
   ]
  },
  {
   "cell_type": "code",
   "execution_count": 85,
   "metadata": {},
   "outputs": [
    {
     "data": {
      "text/html": [
       "<div>\n",
       "<style scoped>\n",
       "    .dataframe tbody tr th:only-of-type {\n",
       "        vertical-align: middle;\n",
       "    }\n",
       "\n",
       "    .dataframe tbody tr th {\n",
       "        vertical-align: top;\n",
       "    }\n",
       "\n",
       "    .dataframe thead th {\n",
       "        text-align: right;\n",
       "    }\n",
       "</style>\n",
       "<table border=\"1\" class=\"dataframe\">\n",
       "  <thead>\n",
       "    <tr style=\"text-align: right;\">\n",
       "      <th></th>\n",
       "    </tr>\n",
       "  </thead>\n",
       "  <tbody>\n",
       "    <tr>\n",
       "      <th>4833423E24Rik</th>\n",
       "    </tr>\n",
       "    <tr>\n",
       "      <th>Abi3bp</th>\n",
       "    </tr>\n",
       "    <tr>\n",
       "      <th>Adcyap1</th>\n",
       "    </tr>\n",
       "    <tr>\n",
       "      <th>Adra1b</th>\n",
       "    </tr>\n",
       "    <tr>\n",
       "      <th>Adra2a</th>\n",
       "    </tr>\n",
       "    <tr>\n",
       "      <th>...</th>\n",
       "    </tr>\n",
       "    <tr>\n",
       "      <th>Zfhx4</th>\n",
       "    </tr>\n",
       "    <tr>\n",
       "      <th>Zfp36l1</th>\n",
       "    </tr>\n",
       "    <tr>\n",
       "      <th>Zfp503</th>\n",
       "    </tr>\n",
       "    <tr>\n",
       "      <th>Zic1</th>\n",
       "    </tr>\n",
       "    <tr>\n",
       "      <th>pla2g7</th>\n",
       "    </tr>\n",
       "  </tbody>\n",
       "</table>\n",
       "<p>368 rows × 0 columns</p>\n",
       "</div>"
      ],
      "text/plain": [
       "Empty DataFrameView\n",
       "Columns: []\n",
       "Index: [4833423E24Rik, Abi3bp, Adcyap1, Adra1b, Adra2a, Adrb1, Akap12, Amhr2, Amigo2, Antxr2, Anxa3, Apela, Aqp6, Arap2, Areg, Arpp21, Barhl2, Bcl11a, Bcl11b, Bhlhe22, Bhlhe40, Bmp2, Bmp3, C1ql3, Cacna1e, Cacna2d2, Calca, Calml4, Camta1, Casp7, Casz1, Cbfa2t3, Cbln2, Cbln4, Ccdc109b, Cd24a, Cdc25c, Cdh20, Cdhr1, Cdk15, Ceacam10, Chl1, Chrdl1, Chrm2, Chrna6, Chrnb3, Cngb1, Cngb3, Cntn6, Coch, Col11a1, Col25a1, Col27a1, Cplx2, Cpm, Cpne4, Cpne7, Cpne9, Creb3l2, Crh, Crip2, Crot, Crx, Crybb3, Crym, Ctsh, Cxcl13, Dach1, Dbp, Ddit4l, Dmrtb1, Drd2, Drd4, Drd5, Ebf1, Ebf3, Egr1, Elavl2, Endou, Eomes, Epha3, Erbb4, Esrrg, Etv1, Fam19a4, Fam46a, Fes, Fezf2, Fgf18, Fgf7, Fos, Fosb, Foxp1, Foxp2, Frzb, Fst, Fxyd6, Gabrg1, Gad2, Gas1, ...]\n",
       "\n",
       "[368 rows x 0 columns]"
      ]
     },
     "execution_count": 85,
     "metadata": {},
     "output_type": "execute_result"
    }
   ],
   "source": [
    "transcript_indv.var"
   ]
  },
  {
   "cell_type": "code",
   "execution_count": 80,
   "metadata": {},
   "outputs": [
    {
     "data": {
      "text/plain": [
       "Series([], Name: Adra2a, dtype: float64)"
      ]
     },
     "execution_count": 80,
     "metadata": {},
     "output_type": "execute_result"
    }
   ],
   "source": [
    "transcript_indv.var.loc['Adra2a']"
   ]
  },
  {
   "cell_type": "code",
   "execution_count": 22,
   "metadata": {},
   "outputs": [
    {
     "data": {
      "text/plain": [
       "array([[0., 0., 0., ..., 0., 0., 0.],\n",
       "       [0., 0., 0., ..., 0., 0., 0.],\n",
       "       [0., 0., 0., ..., 0., 0., 0.],\n",
       "       ...,\n",
       "       [0., 0., 0., ..., 0., 0., 0.],\n",
       "       [0., 0., 0., ..., 0., 0., 0.],\n",
       "       [0., 0., 0., ..., 0., 0., 0.]], dtype=float32)"
      ]
     },
     "execution_count": 22,
     "metadata": {},
     "output_type": "execute_result"
    }
   ],
   "source": [
    "retina1.X"
   ]
  },
  {
   "cell_type": "code",
   "execution_count": 25,
   "metadata": {},
   "outputs": [
    {
     "name": "stdout",
     "output_type": "stream",
     "text": [
      "Number of 0s: 39492511\n",
      "Number of 1s: 1471101\n"
     ]
    }
   ],
   "source": [
    "import numpy as np\n",
    "\n",
    "def check_zeros_and_ones(adata):\n",
    "  \"\"\"Checks how many 0 and 1 in adata.X from scanpy.\n",
    "\n",
    "  Args:\n",
    "    adata: AnnData object.\n",
    "\n",
    "  Returns:\n",
    "    A tuple of two integers, representing the number of 0 and 1 in adata.X, respectively.\n",
    "  \"\"\"\n",
    "\n",
    "  num_zeros = np.sum(adata.X == 0)\n",
    "  num_ones = np.sum(adata.X == 1)\n",
    "  return num_zeros, num_ones\n",
    "\n",
    "# Get the number of 0 and 1 in adata.X\n",
    "num_zeros, num_ones = check_zeros_and_ones(retina1)\n",
    "\n",
    "# Print the results\n",
    "print(\"Number of 0s:\", num_zeros)\n",
    "print(\"Number of 1s:\", num_ones)"
   ]
  },
  {
   "cell_type": "code",
   "execution_count": 40,
   "metadata": {},
   "outputs": [],
   "source": [
    "t=retina1.X\n",
    "pd.DataFrame(data=t, index=retina1.obs_names, columns=retina1.var_names).to_csv('/mnt/g/retinamerfish_raw-counts1.csv')\n",
    "# comma separated csv with header, no rownames\n",
    "pd.DataFrame(retina1.obs).to_csv(\"/mnt/g/retinamerfish_metadata.csv\")"
   ]
  },
  {
   "cell_type": "code",
   "execution_count": 36,
   "metadata": {},
   "outputs": [],
   "source": [
    "t = retina1.X"
   ]
  },
  {
   "cell_type": "code",
   "execution_count": 128,
   "metadata": {},
   "outputs": [
    {
     "data": {
      "text/html": [
       "<div>\n",
       "<style scoped>\n",
       "    .dataframe tbody tr th:only-of-type {\n",
       "        vertical-align: middle;\n",
       "    }\n",
       "\n",
       "    .dataframe tbody tr th {\n",
       "        vertical-align: top;\n",
       "    }\n",
       "\n",
       "    .dataframe thead th {\n",
       "        text-align: right;\n",
       "    }\n",
       "</style>\n",
       "<table border=\"1\" class=\"dataframe\">\n",
       "  <thead>\n",
       "    <tr style=\"text-align: right;\">\n",
       "      <th></th>\n",
       "    </tr>\n",
       "  </thead>\n",
       "  <tbody>\n",
       "    <tr>\n",
       "      <th>4833423E24Rik</th>\n",
       "    </tr>\n",
       "    <tr>\n",
       "      <th>Abi3bp</th>\n",
       "    </tr>\n",
       "    <tr>\n",
       "      <th>Adcyap1</th>\n",
       "    </tr>\n",
       "    <tr>\n",
       "      <th>Adra1b</th>\n",
       "    </tr>\n",
       "    <tr>\n",
       "      <th>Adra2a</th>\n",
       "    </tr>\n",
       "    <tr>\n",
       "      <th>...</th>\n",
       "    </tr>\n",
       "    <tr>\n",
       "      <th>Zfhx4</th>\n",
       "    </tr>\n",
       "    <tr>\n",
       "      <th>Zfp36l1</th>\n",
       "    </tr>\n",
       "    <tr>\n",
       "      <th>Zfp503</th>\n",
       "    </tr>\n",
       "    <tr>\n",
       "      <th>Zic1</th>\n",
       "    </tr>\n",
       "    <tr>\n",
       "      <th>pla2g7</th>\n",
       "    </tr>\n",
       "  </tbody>\n",
       "</table>\n",
       "<p>368 rows × 0 columns</p>\n",
       "</div>"
      ],
      "text/plain": [
       "Empty DataFrame\n",
       "Columns: []\n",
       "Index: [4833423E24Rik, Abi3bp, Adcyap1, Adra1b, Adra2a, Adrb1, Akap12, Amhr2, Amigo2, Antxr2, Anxa3, Apela, Aqp6, Arap2, Areg, Arpp21, Barhl2, Bcl11a, Bcl11b, Bhlhe22, Bhlhe40, Bmp2, Bmp3, C1ql3, Cacna1e, Cacna2d2, Calca, Calml4, Camta1, Casp7, Casz1, Cbfa2t3, Cbln2, Cbln4, Ccdc109b, Cd24a, Cdc25c, Cdh20, Cdhr1, Cdk15, Ceacam10, Chl1, Chrdl1, Chrm2, Chrna6, Chrnb3, Cngb1, Cngb3, Cntn6, Coch, Col11a1, Col25a1, Col27a1, Cplx2, Cpm, Cpne4, Cpne7, Cpne9, Creb3l2, Crh, Crip2, Crot, Crx, Crybb3, Crym, Ctsh, Cxcl13, Dach1, Dbp, Ddit4l, Dmrtb1, Drd2, Drd4, Drd5, Ebf1, Ebf3, Egr1, Elavl2, Endou, Eomes, Epha3, Erbb4, Esrrg, Etv1, Fam19a4, Fam46a, Fes, Fezf2, Fgf18, Fgf7, Fos, Fosb, Foxp1, Foxp2, Frzb, Fst, Fxyd6, Gabrg1, Gad2, Gas1, ...]\n",
       "\n",
       "[368 rows x 0 columns]"
      ]
     },
     "execution_count": 128,
     "metadata": {},
     "output_type": "execute_result"
    }
   ],
   "source": [
    "retina1.var"
   ]
  },
  {
   "cell_type": "code",
   "execution_count": 44,
   "metadata": {},
   "outputs": [
    {
     "data": {
      "text/plain": [
       "array([[-2587.418, -2356.044],\n",
       "       [ 4217.766, -3360.364],\n",
       "       [  217.496, -3989.038],\n",
       "       ...,\n",
       "       [-5369.004, -5127.694],\n",
       "       [-5070.238, -5077.852],\n",
       "       [-5167.87 , -5901.936]])"
      ]
     },
     "execution_count": 44,
     "metadata": {},
     "output_type": "execute_result"
    }
   ],
   "source": [
    "retina1.obsm['spatial']"
   ]
  },
  {
   "cell_type": "code",
   "execution_count": 92,
   "metadata": {},
   "outputs": [
    {
     "data": {
      "text/plain": [
       "Series([], Name: center_x, dtype: float64)"
      ]
     },
     "execution_count": 92,
     "metadata": {},
     "output_type": "execute_result"
    }
   ],
   "source": [
    "transcript_indv.obs['center_x'][transcript_indv.var.loc['Adra2a']]"
   ]
  },
  {
   "cell_type": "code",
   "execution_count": 105,
   "metadata": {},
   "outputs": [
    {
     "name": "stdout",
     "output_type": "stream",
     "text": [
      "Index of the row for 'HBA1': 4\n",
      "Column at index 0: [0. 0. 0. ... 0. 0. 0.]\n"
     ]
    }
   ],
   "source": [
    "def get_row_index_by_rowname(adata, rowname):\n",
    "  \"\"\"Gets the index of the row by the rowname in adata.var.\n",
    "\n",
    "  Args:\n",
    "    adata: AnnData object.\n",
    "    rowname: The rowname of the row to get the index of.\n",
    "\n",
    "  Returns:\n",
    "    The index of the row in adata.var.\n",
    "  \"\"\"\n",
    "\n",
    "  row_index = adata.var.index.get_loc(rowname)\n",
    "  return row_index\n",
    "\n",
    "# Get the index of the row for the gene\n",
    "hba1_row_index = get_row_index_by_rowname(retina1, 'Adra2a')\n",
    "\n",
    "# Print the index\n",
    "print(\"Index of the row for 'HBA1':\", hba1_row_index)\n",
    "\n",
    "def select_column_by_index(arrayview, index):\n",
    "  \"\"\"Selects the column by the index for the arrayview object.\n",
    "\n",
    "  Args:\n",
    "    arrayview: A NumPy arrayview object.\n",
    "    index: The index of the column to select.\n",
    "\n",
    "  Returns:\n",
    "    A NumPy array containing the selected column.\n",
    "  \"\"\"\n",
    "\n",
    "  column = arrayview[:, index]\n",
    "  return column\n",
    "\n",
    "# Select the column at index 0\n",
    "first_column = select_column_by_index(retina1.X, hba1_row_index)\n",
    "\n",
    "# Print the column\n",
    "print(\"Column at index 0:\", first_column)"
   ]
  },
  {
   "cell_type": "code",
   "execution_count": 107,
   "metadata": {},
   "outputs": [
    {
     "ename": "IndexError",
     "evalue": "only integers, slices (`:`), ellipsis (`...`), numpy.newaxis (`None`) and integer or boolean arrays are valid indices",
     "output_type": "error",
     "traceback": [
      "\u001b[0;31m---------------------------------------------------------------------------\u001b[0m",
      "\u001b[0;31mIndexError\u001b[0m                                Traceback (most recent call last)",
      "\u001b[0;32m<ipython-input-107-e86ac995c852>\u001b[0m in \u001b[0;36m<module>\u001b[0;34m\u001b[0m\n\u001b[0;32m----> 1\u001b[0;31m \u001b[0mfirst_column\u001b[0m\u001b[0;34m[\u001b[0m\u001b[0mtranscript_indv\u001b[0m\u001b[0;34m.\u001b[0m\u001b[0mobs\u001b[0m\u001b[0;34m[\u001b[0m\u001b[0;34m'center_x'\u001b[0m\u001b[0;34m]\u001b[0m\u001b[0;34m]\u001b[0m\u001b[0;34m\u001b[0m\u001b[0;34m\u001b[0m\u001b[0m\n\u001b[0m",
      "\u001b[0;31mIndexError\u001b[0m: only integers, slices (`:`), ellipsis (`...`), numpy.newaxis (`None`) and integer or boolean arrays are valid indices"
     ]
    }
   ],
   "source": [
    "first_column[transcript_indv.obs['center_x']]"
   ]
  },
  {
   "cell_type": "code",
   "execution_count": 96,
   "metadata": {},
   "outputs": [],
   "source": [
    "def select_row_by_index(arrayview, index):\n",
    "  \"\"\"Selects the row by the index for the arrayview object.\n",
    "\n",
    "  Args:\n",
    "    arrayview: A NumPy arrayview object.\n",
    "    index: The index of the row to select.\n",
    "\n",
    "  Returns:\n",
    "    A NumPy array containing the selected row.\n",
    "  \"\"\"\n",
    "\n",
    "  row = arrayview[index]\n",
    "  return row\n",
    "\n",
    "# Select the row at index 0\n",
    "first_row = select_row_by_index(retina1.X, hba1_row_index)"
   ]
  },
  {
   "cell_type": "code",
   "execution_count": 100,
   "metadata": {},
   "outputs": [
    {
     "data": {
      "text/plain": [
       "368"
      ]
     },
     "execution_count": 100,
     "metadata": {},
     "output_type": "execute_result"
    }
   ],
   "source": [
    "len(first_row)"
   ]
  },
  {
   "cell_type": "code",
   "execution_count": 102,
   "metadata": {},
   "outputs": [
    {
     "data": {
      "text/plain": [
       "array([[0., 0., 0., ..., 0., 0., 0.],\n",
       "       [0., 0., 0., ..., 0., 0., 0.],\n",
       "       [0., 0., 0., ..., 0., 0., 0.],\n",
       "       ...,\n",
       "       [0., 0., 0., ..., 0., 0., 0.],\n",
       "       [0., 0., 0., ..., 0., 0., 0.],\n",
       "       [0., 0., 0., ..., 0., 0., 0.]], dtype=float32)"
      ]
     },
     "execution_count": 102,
     "metadata": {},
     "output_type": "execute_result"
    }
   ],
   "source": [
    "retina1.X"
   ]
  },
  {
   "cell_type": "code",
   "execution_count": 115,
   "metadata": {},
   "outputs": [
    {
     "name": "stdout",
     "output_type": "stream",
     "text": [
      "Column at index 0: [0. 0. 0. ... 0. 1. 0.]\n"
     ]
    }
   ],
   "source": [
    "def select_column_by_index(arrayview, index):\n",
    "  \"\"\"Selects the column by the index for the arrayview object.\n",
    "\n",
    "  Args:\n",
    "    arrayview: A NumPy arrayview object.\n",
    "    index: The index of the column to select.\n",
    "\n",
    "  Returns:\n",
    "    A NumPy array containing the selected column.\n",
    "  \"\"\"\n",
    "\n",
    "  column = arrayview[:, index]\n",
    "  return column\n",
    "\n",
    "# Select the column at index 0\n",
    "first_column = select_column_by_index(transcript_indv.X, hba1_row_index)\n",
    "\n",
    "# Print the column\n",
    "print(\"Column at index 0:\", first_column)"
   ]
  },
  {
   "cell_type": "code",
   "execution_count": 132,
   "metadata": {},
   "outputs": [
    {
     "data": {
      "text/plain": [
       "14401"
      ]
     },
     "execution_count": 132,
     "metadata": {},
     "output_type": "execute_result"
    }
   ],
   "source": [
    "len(first_column)"
   ]
  },
  {
   "cell_type": "code",
   "execution_count": 110,
   "metadata": {},
   "outputs": [
    {
     "ename": "KeyError",
     "evalue": "\"None of [Float64Index([0.0, 0.0, 0.0, 0.0, 0.0, 1.0, 0.0, 0.0, 0.0, 0.0,\\n              ...\\n              0.0, 0.0, 0.0, 0.0, 0.0, 0.0, 0.0, 0.0, 0.0, 0.0],\\n             dtype='float64', length=113385)] are in the [columns]\"",
     "output_type": "error",
     "traceback": [
      "\u001b[0;31m---------------------------------------------------------------------------\u001b[0m",
      "\u001b[0;31mKeyError\u001b[0m                                  Traceback (most recent call last)",
      "\u001b[0;32m<ipython-input-110-c4e9b84f9045>\u001b[0m in \u001b[0;36m<module>\u001b[0;34m\u001b[0m\n\u001b[0;32m----> 1\u001b[0;31m \u001b[0mtranscript_indv\u001b[0m\u001b[0;34m.\u001b[0m\u001b[0mobs\u001b[0m\u001b[0;34m[\u001b[0m\u001b[0mfirst_column\u001b[0m\u001b[0;34m]\u001b[0m\u001b[0;34m[\u001b[0m\u001b[0;34m'center_x'\u001b[0m\u001b[0;34m]\u001b[0m\u001b[0;34m\u001b[0m\u001b[0;34m\u001b[0m\u001b[0m\n\u001b[0m",
      "\u001b[0;32m~/.local/lib/python3.8/site-packages/pandas/core/frame.py\u001b[0m in \u001b[0;36m__getitem__\u001b[0;34m(self, key)\u001b[0m\n\u001b[1;32m   3462\u001b[0m             \u001b[0;32mif\u001b[0m \u001b[0mis_iterator\u001b[0m\u001b[0;34m(\u001b[0m\u001b[0mkey\u001b[0m\u001b[0;34m)\u001b[0m\u001b[0;34m:\u001b[0m\u001b[0;34m\u001b[0m\u001b[0;34m\u001b[0m\u001b[0m\n\u001b[1;32m   3463\u001b[0m                 \u001b[0mkey\u001b[0m \u001b[0;34m=\u001b[0m \u001b[0mlist\u001b[0m\u001b[0;34m(\u001b[0m\u001b[0mkey\u001b[0m\u001b[0;34m)\u001b[0m\u001b[0;34m\u001b[0m\u001b[0;34m\u001b[0m\u001b[0m\n\u001b[0;32m-> 3464\u001b[0;31m             \u001b[0mindexer\u001b[0m \u001b[0;34m=\u001b[0m \u001b[0mself\u001b[0m\u001b[0;34m.\u001b[0m\u001b[0mloc\u001b[0m\u001b[0;34m.\u001b[0m\u001b[0m_get_listlike_indexer\u001b[0m\u001b[0;34m(\u001b[0m\u001b[0mkey\u001b[0m\u001b[0;34m,\u001b[0m \u001b[0maxis\u001b[0m\u001b[0;34m=\u001b[0m\u001b[0;36m1\u001b[0m\u001b[0;34m)\u001b[0m\u001b[0;34m[\u001b[0m\u001b[0;36m1\u001b[0m\u001b[0;34m]\u001b[0m\u001b[0;34m\u001b[0m\u001b[0;34m\u001b[0m\u001b[0m\n\u001b[0m\u001b[1;32m   3465\u001b[0m \u001b[0;34m\u001b[0m\u001b[0m\n\u001b[1;32m   3466\u001b[0m         \u001b[0;31m# take() does not accept boolean indexers\u001b[0m\u001b[0;34m\u001b[0m\u001b[0;34m\u001b[0m\u001b[0;34m\u001b[0m\u001b[0m\n",
      "\u001b[0;32m~/.local/lib/python3.8/site-packages/pandas/core/indexing.py\u001b[0m in \u001b[0;36m_get_listlike_indexer\u001b[0;34m(self, key, axis)\u001b[0m\n\u001b[1;32m   1312\u001b[0m             \u001b[0mkeyarr\u001b[0m\u001b[0;34m,\u001b[0m \u001b[0mindexer\u001b[0m\u001b[0;34m,\u001b[0m \u001b[0mnew_indexer\u001b[0m \u001b[0;34m=\u001b[0m \u001b[0max\u001b[0m\u001b[0;34m.\u001b[0m\u001b[0m_reindex_non_unique\u001b[0m\u001b[0;34m(\u001b[0m\u001b[0mkeyarr\u001b[0m\u001b[0;34m)\u001b[0m\u001b[0;34m\u001b[0m\u001b[0;34m\u001b[0m\u001b[0m\n\u001b[1;32m   1313\u001b[0m \u001b[0;34m\u001b[0m\u001b[0m\n\u001b[0;32m-> 1314\u001b[0;31m         \u001b[0mself\u001b[0m\u001b[0;34m.\u001b[0m\u001b[0m_validate_read_indexer\u001b[0m\u001b[0;34m(\u001b[0m\u001b[0mkeyarr\u001b[0m\u001b[0;34m,\u001b[0m \u001b[0mindexer\u001b[0m\u001b[0;34m,\u001b[0m \u001b[0maxis\u001b[0m\u001b[0;34m)\u001b[0m\u001b[0;34m\u001b[0m\u001b[0;34m\u001b[0m\u001b[0m\n\u001b[0m\u001b[1;32m   1315\u001b[0m \u001b[0;34m\u001b[0m\u001b[0m\n\u001b[1;32m   1316\u001b[0m         if needs_i8_conversion(ax.dtype) or isinstance(\n",
      "\u001b[0;32m~/.local/lib/python3.8/site-packages/pandas/core/indexing.py\u001b[0m in \u001b[0;36m_validate_read_indexer\u001b[0;34m(self, key, indexer, axis)\u001b[0m\n\u001b[1;32m   1372\u001b[0m                 \u001b[0;32mif\u001b[0m \u001b[0muse_interval_msg\u001b[0m\u001b[0;34m:\u001b[0m\u001b[0;34m\u001b[0m\u001b[0;34m\u001b[0m\u001b[0m\n\u001b[1;32m   1373\u001b[0m                     \u001b[0mkey\u001b[0m \u001b[0;34m=\u001b[0m \u001b[0mlist\u001b[0m\u001b[0;34m(\u001b[0m\u001b[0mkey\u001b[0m\u001b[0;34m)\u001b[0m\u001b[0;34m\u001b[0m\u001b[0;34m\u001b[0m\u001b[0m\n\u001b[0;32m-> 1374\u001b[0;31m                 \u001b[0;32mraise\u001b[0m \u001b[0mKeyError\u001b[0m\u001b[0;34m(\u001b[0m\u001b[0;34mf\"None of [{key}] are in the [{axis_name}]\"\u001b[0m\u001b[0;34m)\u001b[0m\u001b[0;34m\u001b[0m\u001b[0;34m\u001b[0m\u001b[0m\n\u001b[0m\u001b[1;32m   1375\u001b[0m \u001b[0;34m\u001b[0m\u001b[0m\n\u001b[1;32m   1376\u001b[0m             \u001b[0mnot_found\u001b[0m \u001b[0;34m=\u001b[0m \u001b[0mlist\u001b[0m\u001b[0;34m(\u001b[0m\u001b[0mensure_index\u001b[0m\u001b[0;34m(\u001b[0m\u001b[0mkey\u001b[0m\u001b[0;34m)\u001b[0m\u001b[0;34m[\u001b[0m\u001b[0mmissing_mask\u001b[0m\u001b[0;34m.\u001b[0m\u001b[0mnonzero\u001b[0m\u001b[0;34m(\u001b[0m\u001b[0;34m)\u001b[0m\u001b[0;34m[\u001b[0m\u001b[0;36m0\u001b[0m\u001b[0;34m]\u001b[0m\u001b[0;34m]\u001b[0m\u001b[0;34m.\u001b[0m\u001b[0munique\u001b[0m\u001b[0;34m(\u001b[0m\u001b[0;34m)\u001b[0m\u001b[0;34m)\u001b[0m\u001b[0;34m\u001b[0m\u001b[0;34m\u001b[0m\u001b[0m\n",
      "\u001b[0;31mKeyError\u001b[0m: \"None of [Float64Index([0.0, 0.0, 0.0, 0.0, 0.0, 1.0, 0.0, 0.0, 0.0, 0.0,\\n              ...\\n              0.0, 0.0, 0.0, 0.0, 0.0, 0.0, 0.0, 0.0, 0.0, 0.0],\\n             dtype='float64', length=113385)] are in the [columns]\""
     ]
    }
   ],
   "source": [
    "transcript_indv.obs[first_column]['center_x']"
   ]
  },
  {
   "cell_type": "code",
   "execution_count": 131,
   "metadata": {},
   "outputs": [],
   "source": [
    "transcript_indv.obs['Adra2a'] = first_column"
   ]
  },
  {
   "cell_type": "code",
   "execution_count": 126,
   "metadata": {},
   "outputs": [
    {
     "data": {
      "text/html": [
       "<div>\n",
       "<style scoped>\n",
       "    .dataframe tbody tr th:only-of-type {\n",
       "        vertical-align: middle;\n",
       "    }\n",
       "\n",
       "    .dataframe tbody tr th {\n",
       "        vertical-align: top;\n",
       "    }\n",
       "\n",
       "    .dataframe thead th {\n",
       "        text-align: right;\n",
       "    }\n",
       "</style>\n",
       "<table border=\"1\" class=\"dataframe\">\n",
       "  <thead>\n",
       "    <tr style=\"text-align: right;\">\n",
       "      <th></th>\n",
       "      <th>sampleid</th>\n",
       "      <th>volume</th>\n",
       "      <th>center_x</th>\n",
       "      <th>center_y</th>\n",
       "      <th>assigned_transcripts</th>\n",
       "      <th>region</th>\n",
       "      <th>majorclass</th>\n",
       "      <th>subclass</th>\n",
       "      <th>Adra2a</th>\n",
       "    </tr>\n",
       "  </thead>\n",
       "  <tbody>\n",
       "    <tr>\n",
       "      <th>3278-1</th>\n",
       "      <td>VZG105a_WT2</td>\n",
       "      <td>4215.0</td>\n",
       "      <td>4462.910</td>\n",
       "      <td>-3827.848</td>\n",
       "      <td>28.0</td>\n",
       "      <td>6</td>\n",
       "      <td>RGC</td>\n",
       "      <td>8_Novel</td>\n",
       "      <td>0.0</td>\n",
       "    </tr>\n",
       "    <tr>\n",
       "      <th>4217-1</th>\n",
       "      <td>VZG105a_WT2</td>\n",
       "      <td>3959.5</td>\n",
       "      <td>2630.780</td>\n",
       "      <td>-2994.800</td>\n",
       "      <td>17.0</td>\n",
       "      <td>6</td>\n",
       "      <td>AC</td>\n",
       "      <td>AC_7</td>\n",
       "      <td>0.0</td>\n",
       "    </tr>\n",
       "    <tr>\n",
       "      <th>4267-1</th>\n",
       "      <td>VZG105a_WT2</td>\n",
       "      <td>2532.5</td>\n",
       "      <td>4221.924</td>\n",
       "      <td>-3436.218</td>\n",
       "      <td>14.0</td>\n",
       "      <td>6</td>\n",
       "      <td>Rod</td>\n",
       "      <td>Rod</td>\n",
       "      <td>0.0</td>\n",
       "    </tr>\n",
       "    <tr>\n",
       "      <th>4278-1</th>\n",
       "      <td>VZG105a_WT2</td>\n",
       "      <td>2821.5</td>\n",
       "      <td>4467.554</td>\n",
       "      <td>-3868.726</td>\n",
       "      <td>15.0</td>\n",
       "      <td>6</td>\n",
       "      <td>AC</td>\n",
       "      <td>AC_26</td>\n",
       "      <td>0.0</td>\n",
       "    </tr>\n",
       "    <tr>\n",
       "      <th>5226-1</th>\n",
       "      <td>VZG105a_WT2</td>\n",
       "      <td>2658.5</td>\n",
       "      <td>3032.778</td>\n",
       "      <td>-2813.214</td>\n",
       "      <td>32.0</td>\n",
       "      <td>6</td>\n",
       "      <td>AC</td>\n",
       "      <td>AC_17</td>\n",
       "      <td>0.0</td>\n",
       "    </tr>\n",
       "    <tr>\n",
       "      <th>...</th>\n",
       "      <td>...</td>\n",
       "      <td>...</td>\n",
       "      <td>...</td>\n",
       "      <td>...</td>\n",
       "      <td>...</td>\n",
       "      <td>...</td>\n",
       "      <td>...</td>\n",
       "      <td>...</td>\n",
       "      <td>...</td>\n",
       "    </tr>\n",
       "    <tr>\n",
       "      <th>923067-3</th>\n",
       "      <td>VZG105a_WT4</td>\n",
       "      <td>1009.0</td>\n",
       "      <td>-5529.314</td>\n",
       "      <td>-2480.282</td>\n",
       "      <td>12.0</td>\n",
       "      <td>6</td>\n",
       "      <td>Rod</td>\n",
       "      <td>Rod</td>\n",
       "      <td>0.0</td>\n",
       "    </tr>\n",
       "    <tr>\n",
       "      <th>924067-3</th>\n",
       "      <td>VZG105a_WT4</td>\n",
       "      <td>5703.5</td>\n",
       "      <td>-5528.018</td>\n",
       "      <td>-2473.316</td>\n",
       "      <td>63.0</td>\n",
       "      <td>6</td>\n",
       "      <td>Rod</td>\n",
       "      <td>Rod</td>\n",
       "      <td>0.0</td>\n",
       "    </tr>\n",
       "    <tr>\n",
       "      <th>925067-3</th>\n",
       "      <td>VZG105a_WT4</td>\n",
       "      <td>2746.0</td>\n",
       "      <td>-5528.018</td>\n",
       "      <td>-2485.304</td>\n",
       "      <td>16.0</td>\n",
       "      <td>6</td>\n",
       "      <td>Rod</td>\n",
       "      <td>Rod</td>\n",
       "      <td>0.0</td>\n",
       "    </tr>\n",
       "    <tr>\n",
       "      <th>928067-3</th>\n",
       "      <td>VZG105a_WT4</td>\n",
       "      <td>6517.0</td>\n",
       "      <td>-5462.786</td>\n",
       "      <td>-2449.664</td>\n",
       "      <td>40.0</td>\n",
       "      <td>6</td>\n",
       "      <td>BC</td>\n",
       "      <td>RBC</td>\n",
       "      <td>1.0</td>\n",
       "    </tr>\n",
       "    <tr>\n",
       "      <th>933067-3</th>\n",
       "      <td>VZG105a_WT4</td>\n",
       "      <td>4892.5</td>\n",
       "      <td>-5400.578</td>\n",
       "      <td>-2431.034</td>\n",
       "      <td>42.0</td>\n",
       "      <td>6</td>\n",
       "      <td>BC</td>\n",
       "      <td>BC5A</td>\n",
       "      <td>0.0</td>\n",
       "    </tr>\n",
       "  </tbody>\n",
       "</table>\n",
       "<p>14401 rows × 9 columns</p>\n",
       "</div>"
      ],
      "text/plain": [
       "             sampleid  volume  center_x  center_y  assigned_transcripts  \\\n",
       "3278-1    VZG105a_WT2  4215.0  4462.910 -3827.848                  28.0   \n",
       "4217-1    VZG105a_WT2  3959.5  2630.780 -2994.800                  17.0   \n",
       "4267-1    VZG105a_WT2  2532.5  4221.924 -3436.218                  14.0   \n",
       "4278-1    VZG105a_WT2  2821.5  4467.554 -3868.726                  15.0   \n",
       "5226-1    VZG105a_WT2  2658.5  3032.778 -2813.214                  32.0   \n",
       "...               ...     ...       ...       ...                   ...   \n",
       "923067-3  VZG105a_WT4  1009.0 -5529.314 -2480.282                  12.0   \n",
       "924067-3  VZG105a_WT4  5703.5 -5528.018 -2473.316                  63.0   \n",
       "925067-3  VZG105a_WT4  2746.0 -5528.018 -2485.304                  16.0   \n",
       "928067-3  VZG105a_WT4  6517.0 -5462.786 -2449.664                  40.0   \n",
       "933067-3  VZG105a_WT4  4892.5 -5400.578 -2431.034                  42.0   \n",
       "\n",
       "          region majorclass subclass  Adra2a  \n",
       "3278-1         6        RGC  8_Novel     0.0  \n",
       "4217-1         6         AC     AC_7     0.0  \n",
       "4267-1         6        Rod      Rod     0.0  \n",
       "4278-1         6         AC    AC_26     0.0  \n",
       "5226-1         6         AC    AC_17     0.0  \n",
       "...          ...        ...      ...     ...  \n",
       "923067-3       6        Rod      Rod     0.0  \n",
       "924067-3       6        Rod      Rod     0.0  \n",
       "925067-3       6        Rod      Rod     0.0  \n",
       "928067-3       6         BC      RBC     1.0  \n",
       "933067-3       6         BC     BC5A     0.0  \n",
       "\n",
       "[14401 rows x 9 columns]"
      ]
     },
     "execution_count": 126,
     "metadata": {},
     "output_type": "execute_result"
    }
   ],
   "source": [
    "transcript_indv.obs"
   ]
  },
  {
   "cell_type": "code",
   "execution_count": 143,
   "metadata": {},
   "outputs": [
    {
     "name": "stdout",
     "output_type": "stream",
     "text": [
      "Index of the row for 'HBA1': 206\n",
      "[0. 0. 0. ... 1. 0. 0.]\n",
      "14401\n",
      "Index of the row for 'HBA1': 4\n",
      "[0. 0. 0. ... 0. 1. 0.]\n",
      "14401\n",
      "Index of the row for 'HBA1': 112\n",
      "[0. 0. 0. ... 0. 0. 0.]\n",
      "14401\n",
      "Index of the row for 'HBA1': 231\n",
      "[0. 0. 0. ... 0. 0. 0.]\n",
      "14401\n",
      "Index of the row for 'HBA1': 215\n",
      "[0. 0. 0. ... 0. 0. 0.]\n",
      "14401\n",
      "Index of the row for 'HBA1': 291\n",
      "[0. 0. 0. ... 0. 0. 0.]\n",
      "14401\n",
      "Index of the row for 'HBA1': 232\n",
      "[0. 0. 0. ... 0. 0. 0.]\n",
      "14401\n",
      "Index of the row for 'HBA1': 327\n",
      "[0. 1. 0. ... 0. 0. 0.]\n",
      "14401\n"
     ]
    },
    {
     "name": "stderr",
     "output_type": "stream",
     "text": [
      "<ipython-input-143-5723e6aae3ff>:71: ImplicitModificationWarning: Trying to modify attribute `.obs` of view, initializing view as actual.\n",
      "  transcript_indv.obs[n] = first_column\n"
     ]
    },
    {
     "data": {
      "text/plain": [
       "<matplotlib.legend.Legend at 0x7fd1f6844dc0>"
      ]
     },
     "execution_count": 143,
     "metadata": {},
     "output_type": "execute_result"
    },
    {
     "data": {
      "text/plain": [
       "<Figure size 432x288 with 0 Axes>"
      ]
     },
     "metadata": {},
     "output_type": "display_data"
    },
    {
     "data": {
      "image/png": "[encoded data removed]",
      "text/plain": [
       "<Figure size 1080x1080 with 1 Axes>"
      ]
     },
     "metadata": {},
     "output_type": "display_data"
    }
   ],
   "source": [
    "section_n = 6\n",
    "transcript_indv = retina1[retina1.obs['region']==section_n]\n",
    "\n",
    "matplotlib.rcParams.update({'font.size': 30})\n",
    "plt.figure()\n",
    "fig, ax = plt.subplots(figsize=(15,15))\n",
    "plt.scatter(transcript_indv.obs['center_x'], transcript_indv.obs['center_y'], s=1, c = 'gray', alpha=0.2)\n",
    "\n",
    "gene_names = ['Nrl','Adra2a','Grm6', 'Pde6a', 'Onecut2', 'Slc17a6', 'Pde6c', 'Tfap2a']\n",
    "colors = np.random.rand(len(gene_names),).tolist()\n",
    "\n",
    "\n",
    "\n",
    "plt.xlabel(\"x_coordinate\")\n",
    "plt.ylabel(\"y_coordinate\")\n",
    "plt.xticks([])\n",
    "plt.yticks([])\n",
    "\n",
    "fontprops = fm.FontProperties(size=18)\n",
    "scalebar = AnchoredSizeBar(ax.transData,\n",
    "                           250, '250 microns', 'lower right', \n",
    "                           pad=0.1,\n",
    "                           color='black',\n",
    "                           frameon=False,\n",
    "                           size_vertical=1,\n",
    "                           fontproperties=fontprops)\n",
    "\n",
    "ax.add_artist(scalebar)\n",
    "\n",
    "def get_row_index_by_rowname(adata, rowname):\n",
    "  \"\"\"Gets the index of the row by the rowname in adata.var.\n",
    "\n",
    "  Args:\n",
    "    adata: AnnData object.\n",
    "    rowname: The rowname of the row to get the index of.\n",
    "\n",
    "  Returns:\n",
    "    The index of the row in adata.var.\n",
    "  \"\"\"\n",
    "\n",
    "  row_index = adata.var.index.get_loc(rowname)\n",
    "  return row_index\n",
    "\n",
    "def select_column_by_index(arrayview, index):\n",
    "  \"\"\"Selects the column by the index for the arrayview object.\n",
    "\n",
    "  Args:\n",
    "    arrayview: A NumPy arrayview object.\n",
    "    index: The index of the column to select.\n",
    "\n",
    "  Returns:\n",
    "    A NumPy array containing the selected column.\n",
    "  \"\"\"\n",
    "\n",
    "  column = arrayview[:, index]\n",
    "  return column\n",
    "\n",
    "\n",
    "for c, n in zip (colors, gene_names):\n",
    "   \n",
    "    # Get the index of the row for the gene\n",
    "    hba1_row_index = get_row_index_by_rowname(transcript_indv, n)\n",
    "\n",
    "    # Print the index\n",
    "    print(\"Index of the row for 'HBA1':\", hba1_row_index)\n",
    "\n",
    "    # Select the column at index 0\n",
    "    first_column = select_column_by_index(transcript_indv.X, hba1_row_index)\n",
    "    print(first_column)\n",
    "    print(len(first_column))\n",
    "    transcript_indv.obs[n] = first_column\n",
    "    ax.scatter(transcript_indv.obs[transcript_indv.obs[n] == 1]['center_x'],\n",
    "          transcript_indv.obs[transcript_indv.obs[n] == 1]['center_y'], label=n,\n",
    "             s=10, alpha=0.8, edgecolors = 'white', linewidths = 0.2)\n",
    "ax.legend(scatterpoints=1, markerscale =4, fontsize=25, loc= 'upper right', bbox_to_anchor = (1,1), ncol = 2)      "
   ]
  },
  {
   "cell_type": "code",
   "execution_count": null,
   "metadata": {},
   "outputs": [],
   "source": []
  }
 ],
 "metadata": {
  "kernelspec": {
   "display_name": "Python 3",
   "language": "python",
   "name": "python3"
  }
 },
 "nbformat": 4,
 "nbformat_minor": 5
}
